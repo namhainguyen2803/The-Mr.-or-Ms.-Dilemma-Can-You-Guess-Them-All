{
 "cells": [
  {
   "cell_type": "code",
   "execution_count": 82,
   "metadata": {},
   "outputs": [],
   "source": [
    "import os\n",
    "import pandas as pd\n",
    "from data_reader import *\n",
    "from models import *\n",
    "from tf_idf import *\n",
    "from colorama import Fore\n",
    "colorama.init(autoreset=True)"
   ]
  },
  {
   "cell_type": "code",
   "execution_count": 83,
   "metadata": {},
   "outputs": [],
   "source": [
    "parent_directory = os.path.abspath(os.path.join(os.getcwd(), \"..\"))\n",
    "file_path = os.path.join(parent_directory, \"dataset/processed-full-name-dup.csv\")\n",
    "data = pd.read_csv(file_path)\n",
    "\n",
    "parent_directory = os.path.abspath(os.path.join(os.getcwd(), \"..\"))\n",
    "file_path = os.path.join(parent_directory, \"dataset/dsai-k66-gender-annotated-name.csv\")\n",
    "test_data = pd.read_csv(file_path)"
   ]
  },
  {
   "cell_type": "code",
   "execution_count": 84,
   "metadata": {},
   "outputs": [
    {
     "name": "stdout",
     "output_type": "stream",
     "text": [
      "           Full_Name  Gender\n",
      "0      ngô xuân tùng       1\n",
      "1  bùi dương thảo vy       0\n",
      "2        lưu thế huy       1\n",
      "3     nguyễn thị vân       0\n",
      "4    dương minh long       1\n",
      "--------------------\n",
      "         Full_Name  Gender\n",
      "0  Nguyễn Thanh An       1\n",
      "1    Nguyễn Thế An       1\n",
      "2        Lê Bá Anh       1\n",
      "3       Vũ Lâm Anh       1\n",
      "4     Ngô Việt Anh       1\n"
     ]
    }
   ],
   "source": [
    "print(data.head())\n",
    "print(\"--------------------\")\n",
    "print(test_data.head())"
   ]
  },
  {
   "cell_type": "code",
   "execution_count": 85,
   "metadata": {},
   "outputs": [],
   "source": [
    "RANDOM_STATE = 1989"
   ]
  },
  {
   "cell_type": "code",
   "execution_count": 86,
   "metadata": {},
   "outputs": [],
   "source": [
    "# Add new name\n",
    "X_test = []\n",
    "y_test = []"
   ]
  },
  {
   "cell_type": "code",
   "execution_count": 87,
   "metadata": {},
   "outputs": [],
   "source": [
    "# Use DSAI students' names\n",
    "X_test = test_data[\"Full_Name\"].values\n",
    "y_test = test_data[\"Gender\"].values"
   ]
  },
  {
   "cell_type": "code",
   "execution_count": 88,
   "metadata": {},
   "outputs": [
    {
     "name": "stdout",
     "output_type": "stream",
     "text": [
      "['nguyễn phú quý' 'nguyễn hoàng tuấn' 'nguyễn phương mai' ...\n",
      " 'nguyễn ngọc thành thật' 'võ minh vũ' 'nguyễn tấn ngà']\n",
      "--------------------\n"
     ]
    },
    {
     "name": "stdout",
     "output_type": "stream",
     "text": [
      "[[0. 0. 0. ... 0. 0. 0.]\n",
      " [0. 0. 0. ... 0. 0. 0.]\n",
      " [0. 0. 0. ... 0. 0. 0.]\n",
      " ...\n",
      " [0. 0. 0. ... 0. 0. 0.]\n",
      " [0. 0. 0. ... 0. 0. 0.]\n",
      " [0. 0. 0. ... 0. 0. 0.]]\n",
      "Shape: (21098, 1089)\n",
      "--------------------\n",
      "[[ 1.21496892  1.16546849 -1.04168118 ... -0.04638662  0.68607589\n",
      "   1.91595948]\n",
      " [ 1.73901523  2.28288229 -0.40990857 ...  0.05136551  0.14451796\n",
      "  -0.02507637]\n",
      " [ 1.69962091  0.74757005 -1.00416025 ... -0.05767348 -0.02964623\n",
      "  -0.24723676]\n",
      " ...\n",
      " [ 2.01781562  1.32630302 -1.05541287 ...  0.04573085 -0.19647034\n",
      "   0.06226329]\n",
      " [ 1.11441369  1.21780091  1.0447772  ...  0.07127101  0.05719485\n",
      "   0.06819658]\n",
      " [ 1.2172349   1.20825693 -1.08446803 ... -0.18646707 -0.02090141\n",
      "  -0.09960819]]\n",
      "Shape: (21098, 100)\n"
     ]
    }
   ],
   "source": [
    "X = data[\"Full_Name\"].values\n",
    "y = data[\"Gender\"].values\n",
    "\n",
    "# Train test split\n",
    "X_train, _, y_train, _ = train_test_split(X, y, test_size=0.2, random_state=RANDOM_STATE, stratify=y)\n",
    "print(X_train)\n",
    "print(\"--------------------\")\n",
    "\n",
    "# TF-IDF Tokenizer\n",
    "TF_IDF = Compute_TF_IDF(X_train)\n",
    "tfidf_X_train = TF_IDF.compute_tf_idf()\n",
    "tfidf_X_test = TF_IDF.compute_tf_idf_for_test(X_test)\n",
    "print(tfidf_X_train)\n",
    "print(\"Shape:\", tfidf_X_train.shape)\n",
    "print(\"--------------------\")\n",
    "\n",
    "truncated_tfidf_X_train, truncated_tfidf_X_test = truncated_svd(tfidf_X_train, tfidf_X_test, random_state=RANDOM_STATE)\n",
    "print(truncated_tfidf_X_train)\n",
    "print(\"Shape:\", truncated_tfidf_X_train.shape)"
   ]
  },
  {
   "cell_type": "code",
   "execution_count": 89,
   "metadata": {},
   "outputs": [
    {
     "name": "stdout",
     "output_type": "stream",
     "text": [
      "LOGISTIC REGRESSION\n"
     ]
    }
   ],
   "source": [
    "logreg = MyLogisticRegression(truncated_tfidf_X_train, truncated_tfidf_X_test, y_train, y_test, random_state=RANDOM_STATE,\n",
    "                              regularization=\"lasso\", regularization_strength=0.01)\n",
    "logreg.fit()"
   ]
  },
  {
   "cell_type": "code",
   "execution_count": 90,
   "metadata": {},
   "outputs": [
    {
     "name": "stdout",
     "output_type": "stream",
     "text": [
      "Name                          True      Predicted \n",
      "----------                    --------  --------  \n",
      "Nguyễn Thanh An               Male      Male      \n",
      "Nguyễn Thế An                 Male      Male      \n",
      "Lê Bá Anh                     Male      Male      \n",
      "Vũ Lâm Anh                    Male      Male      \n",
      "Ngô Việt Anh                  Male      Male      \n",
      "Phan Công Anh                 Male      Male      \n",
      "Hồ Ngọc Ánh                   Female    Female    \n",
      "Trương Gia Bách               Male      Male      \n",
      "Nguyễn Đình Bắc               Male      Male      \n",
      "Lê Ngọc Bình                  Male      Female       ERROR   \n",
      "Nguyễn Thanh Bình             Male      Male      \n",
      "Đậu Văn Cần                   Male      Male      \n",
      "Nguyễn Hữu Chí                Male      Male      \n",
      "Trần Dương Chính              Male      Male      \n",
      "Đoàn Ngọc Cường               Male      Male      \n",
      "Nguyễn Minh Cường             Male      Male      \n",
      "Nguyễn Tiến Doanh             Male      Male      \n",
      "Bùi Tiến Dũng                 Male      Male      \n",
      "Nguyễn Việt Dũng              Male      Male      \n",
      "Hoàng Đình Dũng               Male      Male      \n",
      "Trần Công Duy                 Male      Male      \n",
      "Tạ Quang Duy                  Male      Male      \n",
      "Nguyễn Hải Dương              Male      Male      \n",
      "Trần Hoàng Dương              Male      Male      \n",
      "Nguyễn Bá Dương               Male      Male      \n",
      "Nguyễn Mạnh Dương             Male      Male      \n",
      "Võ Đình Đạt                   Male      Male      \n",
      "Hoàng Thành Đạt               Male      Male      \n",
      "Trần Quốc Đệ                  Male      Male      \n",
      "Đỗ Nghiêm Đức                 Male      Male      \n",
      "Trịnh Hoàng Giang             Male      Male      \n",
      "Nhữ Minh Hà                   Male      Male      \n",
      "Nguyễn Nam Hải                Male      Male      \n",
      "Nguyễn Song Hào               Male      Male      \n",
      "Trần Thị Hiền                 Female    Female    \n",
      "Hà Hoàng Hiệp                 Male      Male      \n",
      "Lê Quang Hiếu                 Male      Male      \n",
      "Phạm Trung Hiếu               Male      Male      \n",
      "Hoàng Minh Hoàng              Male      Male      \n",
      "Hoàng Quang Nguyên Hoàng      Male      Male      \n",
      "Vũ Đức Hùng                   Male      Male      \n",
      "Phan Đức Hưng                 Male      Male      \n",
      "Luyện Minh Khánh              Male      Male      \n",
      "Lê Trung Kiên                 Male      Male      \n",
      "Đỗ Đình Kiên                  Male      Male      \n",
      "Đỗ Đức Tuấn Kiên              Male      Male      \n",
      "Phạm Tuấn Kiệt                Male      Male      \n",
      "Trần Lê Mỹ Linh               Female    Female    \n",
      "Bùi Khánh Linh                Female    Male         ERROR   \n",
      "Vũ Tùng Linh                  Male      Male      \n",
      "Nguyễn Hải Long               Male      Male      \n",
      "Nguyễn Thành Long             Male      Male      \n",
      "Nguyễn Tùng Lương             Male      Male      \n",
      "Đào Hà Xuân Mai               Female    Female    \n",
      "Nguyễn Nhật Minh              Male      Male      \n",
      "Tạ Ngọc Minh                  Male      Male      \n",
      "Vũ Tuấn Minh                  Male      Male      \n",
      "Nguyễn Viết Minh              Male      Male      \n",
      "Vũ Nhật Minh                  Male      Male      \n",
      "Nguyễn Hữu Nam                Male      Male      \n",
      "Nguyễn Quý Ngọc               Male      Male      \n",
      "Đường Anh Nhật                Male      Male      \n",
      "Bùi Anh Nhật                  Male      Male      \n",
      "Nguyễn Quang Pháp             Male      Male      \n",
      "Nguyễn Hà Phong               Male      Male      \n",
      "Vũ Hoàng Phúc                 Male      Male      \n",
      "Nguyễn Minh Phương            Male      Male      \n",
      "Bùi Minh Quang                Male      Male      \n",
      "Phạm Ngọc Quân                Male      Male      \n",
      "Đường Minh Quân               Male      Male      \n",
      "Đường Trần Nhật Quốc          Male      Male      \n",
      "Nguyễn Văn Quốc               Male      Male      \n",
      "Nguyễn Nguyễn Công Quý        Male      Male      \n",
      "Lăng Văn Quý                  Male      Male      \n",
      "Hoàng Tú Quyên                Female    Male         ERROR   \n",
      "Huỳnh Sáng                    Male      Male      \n",
      "Nguyễn Đắc Tâm                Male      Male      \n",
      "Phạm Đức Thành                Male      Male      \n",
      "Nguyễn Bá Thiêm               Male      Male      \n",
      "Trần Văn Toàn                 Male      Male      \n",
      "Nguyễn Quang Tri              Male      Male      \n",
      "Đặng Kiều Trinh               Female    Female    \n",
      "Nguyễn Việt Trung             Male      Male      \n",
      "Phạm Quang Trung              Male      Male      \n",
      "Nguyễn Trung Trực             Male      Male      \n",
      "Phan Đình Trường              Male      Male      \n",
      "Trần Thanh Trường             Male      Male      \n",
      "Đỗ Hoàng Tuấn                 Male      Male      \n",
      "Nguyễn Minh Tuấn              Male      Male      \n",
      "Phạm Quang Tùng               Male      Male      \n",
      "Đoàn Minh Việt                Male      Male      \n",
      "Đoàn Thế Vinh                 Male      Male      \n",
      "Lê Bá Vũ                      Male      Male      \n"
     ]
    }
   ],
   "source": [
    "y_pred = logreg.predict()\n",
    "convert_dict = {0: \"Female\", 1: \"Male\"}\n",
    "\n",
    "print(\"{0:30}{1:10}{2:10}\".format(\"Name\", \"True\", \"Predicted\"))\n",
    "print(\"{0:30}{1:10}{2:10}\".format(\"----------\", \"--------\", \"--------\"))\n",
    "for i, name in enumerate(X_test):\n",
    "    if y_test[i] == y_pred[i]: \n",
    "        print(\"{0:30}{1:10}{2:10}\".format(name, convert_dict[y_test[i]], convert_dict[y_pred[i]]))\n",
    "    else:\n",
    "        print(\"{0:30}{1:10}{2:10}{3:^11}\".format(name, convert_dict[y_test[i]], convert_dict[y_pred[i]], \"ERROR\"))"
   ]
  },
  {
   "cell_type": "code",
   "execution_count": 91,
   "metadata": {},
   "outputs": [
    {
     "name": "stdout",
     "output_type": "stream",
     "text": [
      "BERNOULLI NAIVE BAYES"
     ]
    },
    {
     "name": "stdout",
     "output_type": "stream",
     "text": [
      "\n"
     ]
    }
   ],
   "source": [
    "bnb = MyBernoulliNaiveBayes(tfidf_X_train, tfidf_X_test, y_train, y_test)\n",
    "bnb.fit()"
   ]
  },
  {
   "cell_type": "code",
   "execution_count": 92,
   "metadata": {},
   "outputs": [
    {
     "name": "stdout",
     "output_type": "stream",
     "text": [
      "Name                          True      Predicted \n",
      "----------                    --------  --------  \n",
      "Nguyễn Thanh An               Male      Male      \n",
      "Nguyễn Thế An                 Male      Male      \n",
      "Lê Bá Anh                     Male      Male      \n",
      "Vũ Lâm Anh                    Male      Male      \n",
      "Ngô Việt Anh                  Male      Male      \n",
      "Phan Công Anh                 Male      Male      \n",
      "Hồ Ngọc Ánh                   Female    Female    \n",
      "Trương Gia Bách               Male      Male      \n",
      "Nguyễn Đình Bắc               Male      Male      \n",
      "Lê Ngọc Bình                  Male      Male      \n",
      "Nguyễn Thanh Bình             Male      Male      \n",
      "Đậu Văn Cần                   Male      Male      \n",
      "Nguyễn Hữu Chí                Male      Male      \n",
      "Trần Dương Chính              Male      Male      \n",
      "Đoàn Ngọc Cường               Male      Male      \n",
      "Nguyễn Minh Cường             Male      Male      \n",
      "Nguyễn Tiến Doanh             Male      Male      \n",
      "Bùi Tiến Dũng                 Male      Male      \n",
      "Nguyễn Việt Dũng              Male      Male      \n",
      "Hoàng Đình Dũng               Male      Male      \n",
      "Trần Công Duy                 Male      Male      \n",
      "Tạ Quang Duy                  Male      Male      \n",
      "Nguyễn Hải Dương              Male      Male      \n",
      "Trần Hoàng Dương              Male      Male      \n",
      "Nguyễn Bá Dương               Male      Male      \n",
      "Nguyễn Mạnh Dương             Male      Male      \n",
      "Võ Đình Đạt                   Male      Male      \n",
      "Hoàng Thành Đạt               Male      Male      \n",
      "Trần Quốc Đệ                  Male      Male      \n",
      "Đỗ Nghiêm Đức                 Male      Male      \n",
      "Trịnh Hoàng Giang             Male      Male      \n",
      "Nhữ Minh Hà                   Male      Male      \n",
      "Nguyễn Nam Hải                Male      Male      \n",
      "Nguyễn Song Hào               Male      Male      \n",
      "Trần Thị Hiền                 Female    Female    \n",
      "Hà Hoàng Hiệp                 Male      Male      \n",
      "Lê Quang Hiếu                 Male      Male      \n",
      "Phạm Trung Hiếu               Male      Male      \n",
      "Hoàng Minh Hoàng              Male      Male      \n",
      "Hoàng Quang Nguyên Hoàng      Male      Male      \n",
      "Vũ Đức Hùng                   Male      Male      \n",
      "Phan Đức Hưng                 Male      Male      \n",
      "Luyện Minh Khánh              Male      Male      \n",
      "Lê Trung Kiên                 Male      Male      \n",
      "Đỗ Đình Kiên                  Male      Male      \n",
      "Đỗ Đức Tuấn Kiên              Male      Male      \n",
      "Phạm Tuấn Kiệt                Male      Male      \n",
      "Trần Lê Mỹ Linh               Female    Female    \n",
      "Bùi Khánh Linh                Female    Male         ERROR   \n",
      "Vũ Tùng Linh                  Male      Male      \n",
      "Nguyễn Hải Long               Male      Male      \n",
      "Nguyễn Thành Long             Male      Male      \n",
      "Nguyễn Tùng Lương             Male      Male      \n",
      "Đào Hà Xuân Mai               Female    Female    \n",
      "Nguyễn Nhật Minh              Male      Male      \n",
      "Tạ Ngọc Minh                  Male      Male      \n",
      "Vũ Tuấn Minh                  Male      Male      \n",
      "Nguyễn Viết Minh              Male      Male      \n",
      "Vũ Nhật Minh                  Male      Male      \n",
      "Nguyễn Hữu Nam                Male      Male      \n",
      "Nguyễn Quý Ngọc               Male      Male      \n",
      "Đường Anh Nhật                Male      Male      \n",
      "Bùi Anh Nhật                  Male      Male      \n",
      "Nguyễn Quang Pháp             Male      Male      \n",
      "Nguyễn Hà Phong               Male      Male      \n",
      "Vũ Hoàng Phúc                 Male      Male      \n",
      "Nguyễn Minh Phương            Male      Male      \n",
      "Bùi Minh Quang                Male      Male      \n",
      "Phạm Ngọc Quân                Male      Male      \n",
      "Đường Minh Quân               Male      Male      \n",
      "Đường Trần Nhật Quốc          Male      Male      \n",
      "Nguyễn Văn Quốc               Male      Male      \n",
      "Nguyễn Nguyễn Công Quý        Male      Male      \n",
      "Lăng Văn Quý                  Male      Male      \n",
      "Hoàng Tú Quyên                Female    Female    \n",
      "Huỳnh Sáng                    Male      Male      \n",
      "Nguyễn Đắc Tâm                Male      Male      \n",
      "Phạm Đức Thành                Male      Male      \n",
      "Nguyễn Bá Thiêm               Male      Male      \n",
      "Trần Văn Toàn                 Male      Male      \n",
      "Nguyễn Quang Tri              Male      Male      \n",
      "Đặng Kiều Trinh               Female    Female    \n",
      "Nguyễn Việt Trung             Male      Male      \n",
      "Phạm Quang Trung              Male      Male      \n",
      "Nguyễn Trung Trực             Male      Male      \n",
      "Phan Đình Trường              Male      Male      \n",
      "Trần Thanh Trường             Male      Male      \n",
      "Đỗ Hoàng Tuấn                 Male      Male      \n",
      "Nguyễn Minh Tuấn              Male      Male      \n",
      "Phạm Quang Tùng               Male      Male      \n",
      "Đoàn Minh Việt                Male      Male      \n",
      "Đoàn Thế Vinh                 Male      Male      \n",
      "Lê Bá Vũ                      Male      Male      \n"
     ]
    }
   ],
   "source": [
    "y_pred = bnb.predict()\n",
    "convert_dict = {0: \"Female\", 1: \"Male\"}\n",
    "\n",
    "print(\"{0:30}{1:10}{2:10}\".format(\"Name\", \"True\", \"Predicted\"))\n",
    "print(\"{0:30}{1:10}{2:10}\".format(\"----------\", \"--------\", \"--------\"))\n",
    "for i, name in enumerate(X_test):\n",
    "    if y_test[i] == y_pred[i]: \n",
    "        print(\"{0:30}{1:10}{2:10}\".format(name, convert_dict[y_test[i]], convert_dict[y_pred[i]]))\n",
    "    else:\n",
    "        print(\"{0:30}{1:10}{2:10}{3:^11}\".format(name, convert_dict[y_test[i]], convert_dict[y_pred[i]], \"ERROR\"))"
   ]
  }
 ],
 "metadata": {
  "kernelspec": {
   "display_name": ".venv",
   "language": "python",
   "name": "python3"
  },
  "language_info": {
   "codemirror_mode": {
    "name": "ipython",
    "version": 3
   },
   "file_extension": ".py",
   "mimetype": "text/x-python",
   "name": "python",
   "nbconvert_exporter": "python",
   "pygments_lexer": "ipython3",
   "version": "3.10.9"
  },
  "orig_nbformat": 4
 },
 "nbformat": 4,
 "nbformat_minor": 2
}
