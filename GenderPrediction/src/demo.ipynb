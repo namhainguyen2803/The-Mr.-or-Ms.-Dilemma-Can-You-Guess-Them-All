{
 "cells": [
  {
   "cell_type": "code",
   "execution_count": 98,
   "metadata": {},
   "outputs": [],
   "source": [
    "import os\n",
    "import pandas as pd\n",
    "from data_reader import *\n",
    "from models import *\n",
    "from tf_idf import *\n",
    "from colorama import Fore\n",
    "colorama.init(autoreset=True)"
   ]
  },
  {
   "cell_type": "code",
   "execution_count": 99,
   "metadata": {},
   "outputs": [],
   "source": [
    "parent_directory = os.path.abspath(os.path.join(os.getcwd(), \"..\"))\n",
    "file_path = os.path.join(parent_directory, \"dataset/processed-full-name-dup.csv\")\n",
    "data = pd.read_csv(file_path)\n",
    "\n",
    "parent_directory = os.path.abspath(os.path.join(os.getcwd(), \"..\"))\n",
    "file_path = os.path.join(parent_directory, \"dataset/dsai-k66-gender-annotated-name.csv\")\n",
    "test_data = pd.read_csv(file_path)"
   ]
  },
  {
   "cell_type": "code",
   "execution_count": 100,
   "metadata": {},
   "outputs": [
    {
     "name": "stdout",
     "output_type": "stream",
     "text": [
      "           Full_Name  Gender\n",
      "0      ngô xuân tùng       1\n",
      "1  bùi dương thảo vy       0\n",
      "2        lưu thế huy       1\n",
      "3     nguyễn thị vân       0\n",
      "4    dương minh long       1\n",
      "--------------------\n",
      "         Full_Name  Gender\n",
      "0  Nguyễn Thanh An       1\n",
      "1    Nguyễn Thế An       1\n",
      "2        Lê Bá Anh       1\n",
      "3       Vũ Lâm Anh       1\n",
      "4     Ngô Việt Anh       1\n"
     ]
    }
   ],
   "source": [
    "print(data.head())\n",
    "print(\"--------------------\")\n",
    "print(test_data.head())"
   ]
  },
  {
   "cell_type": "code",
   "execution_count": 101,
   "metadata": {},
   "outputs": [],
   "source": [
    "RANDOM_STATE = 1989"
   ]
  },
  {
   "cell_type": "code",
   "execution_count": null,
   "metadata": {},
   "outputs": [],
   "source": [
    "X = data[\"Full_Name\"].values\n",
    "y = data[\"Gender\"].values\n",
    "\n",
    "X_test = []\n",
    "y_test = []\n",
    "\n",
    "X_test = test_data[\"Full_Name\"].values\n",
    "y_test = test_data[\"Gender\"].values\n",
    "\n",
    "# Train test split\n",
    "X_train, _, y_train, _ = train_test_split(X, y, test_size=0.2, random_state=RANDOM_STATE, stratify=y)\n",
    "print(X_train)\n",
    "print(\"--------------------\")\n",
    "\n",
    "# TF-IDF Tokenizer\n",
    "TF_IDF = Compute_TF_IDF(X_train)\n",
    "tfidf_X_train = TF_IDF.compute_tf_idf()\n",
    "tfidf_X_test = TF_IDF.compute_tf_idf_for_test(X_test)\n",
    "print(tfidf_X_train)\n",
    "print(\"Shape:\", tfidf_X_train.shape)\n",
    "print(\"--------------------\")\n",
    "\n",
    "truncated_tfidf_X_train, truncated_tfidf_X_test = truncated_svd(tfidf_X_train, tfidf_X_test, random_state=RANDOM_STATE)\n",
    "print(truncated_tfidf_X_train)\n",
    "print(\"Shape:\", truncated_tfidf_X_train.shape)"
   ]
  },
  {
   "cell_type": "code",
   "execution_count": 103,
   "metadata": {},
   "outputs": [
    {
     "name": "stdout",
     "output_type": "stream",
     "text": [
      "LOGISTIC REGRESSION\n"
     ]
    }
   ],
   "source": [
    "logreg = MyLogisticRegression(truncated_tfidf_X_train, truncated_tfidf_X_test, y_train, y_test, random_state=RANDOM_STATE,\n",
    "                              regularization=\"lasso\", regularization_strength=0.01)\n",
    "logreg.fit()"
   ]
  },
  {
   "cell_type": "code",
   "execution_count": null,
   "metadata": {},
   "outputs": [],
   "source": [
    "y_pred = logreg.predict()\n",
    "convert_dict = {0: \"Female\", 1: \"Male\"}\n",
    "\n",
    "print(\"{0:30}{1:10}{2:10}\".format(\"Name\", \"True\", \"Predicted\"))\n",
    "print(\"{0:30}{1:10}{2:10}\".format(\"----------\", \"--------\", \"--------\"))\n",
    "for i, name in enumerate(X_test):\n",
    "    if y_test[i] == y_pred[i]: \n",
    "        print(\"{0:30}{1:10}{2:10}\".format(name, convert_dict[y_test[i]], convert_dict[y_pred[i]]))\n",
    "    else:\n",
    "        print(\"{0:30}{1:10}{2:10}{3:^11}\".format(name, convert_dict[y_test[i]], convert_dict[y_pred[i]], \"ERROR\"))"
   ]
  },
  {
   "cell_type": "code",
   "execution_count": 105,
   "metadata": {},
   "outputs": [
    {
     "name": "stdout",
     "output_type": "stream",
     "text": [
      "BERNOULLI NAIVE BAYES\n"
     ]
    }
   ],
   "source": [
    "bnb = MyBernoulliNaiveBayes(tfidf_X_train, tfidf_X_test, y_train, y_test)\n",
    "bnb.fit()"
   ]
  },
  {
   "cell_type": "code",
   "execution_count": null,
   "metadata": {},
   "outputs": [],
   "source": [
    "y_pred = bnb.predict()\n",
    "convert_dict = {0: \"Female\", 1: \"Male\"}\n",
    "\n",
    "print(\"{0:30}{1:10}{2:10}\".format(\"Name\", \"True\", \"Predicted\"))\n",
    "print(\"{0:30}{1:10}{2:10}\".format(\"----------\", \"--------\", \"--------\"))\n",
    "for i, name in enumerate(X_test):\n",
    "    if y_test[i] == y_pred[i]: \n",
    "        print(\"{0:30}{1:10}{2:10}\".format(name, convert_dict[y_test[i]], convert_dict[y_pred[i]]))\n",
    "    else:\n",
    "        print(\"{0:30}{1:10}{2:10}{3:^11}\".format(name, convert_dict[y_test[i]], convert_dict[y_pred[i]], \"ERROR\"))"
   ]
  }
 ],
 "metadata": {
  "kernelspec": {
   "display_name": ".venv",
   "language": "python",
   "name": "python3"
  },
  "language_info": {
   "codemirror_mode": {
    "name": "ipython",
    "version": 3
   },
   "file_extension": ".py",
   "mimetype": "text/x-python",
   "name": "python",
   "nbconvert_exporter": "python",
   "pygments_lexer": "ipython3",
   "version": "3.10.9"
  },
  "orig_nbformat": 4
 },
 "nbformat": 4,
 "nbformat_minor": 2
}
