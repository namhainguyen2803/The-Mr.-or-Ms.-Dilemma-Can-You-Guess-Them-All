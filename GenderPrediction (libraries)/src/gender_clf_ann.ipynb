{
  "nbformat": 4,
  "nbformat_minor": 0,
  "metadata": {
    "colab": {
      "provenance": []
    },
    "kernelspec": {
      "name": "python3",
      "display_name": "Python 3"
    },
    "language_info": {
      "name": "python"
    }
  },
  "cells": [
    {
      "cell_type": "code",
      "execution_count": 31,
      "metadata": {
        "id": "XsvdKYUTv-Rw"
      },
      "outputs": [],
      "source": [
        "import re\n",
        "import numpy as np\n",
        "import tensorflow as tf\n",
        "import pandas as pd\n",
        "import matplotlib.pyplot as plt\n",
        "\n",
        "from sklearn.model_selection import train_test_split\n",
        "from sklearn.decomposition import TruncatedSVD"
      ]
    },
    {
      "cell_type": "code",
      "source": [
        "def convert(text):\n",
        "  patterns = {\n",
        "  '[àáảãạăắằẵặẳâầấậẫẩ]': 'a',\n",
        "  '[đ]': 'd',\n",
        "  '[èéẻẽẹêềếểễệ]': 'e',\n",
        "  '[ìíỉĩị]': 'i',\n",
        "  '[òóỏõọôồốổỗộơờớởỡợ]': 'o',\n",
        "  '[ùúủũụưừứửữự]': 'u',\n",
        "  '[ỳýỷỹỵ]': 'y'\n",
        "  }\n",
        "  output = text\n",
        "  for regex, replace in patterns.items():\n",
        "    output = re.sub(regex, replace, output)\n",
        "    # deal with upper case\n",
        "    output = re.sub(regex.upper(), replace.upper(), output)\n",
        "  return output.lower()\n",
        "\n",
        "class Compute_TF_IDF():\n",
        "  def __init__(self, list_document, dictionary=None, max_count=None, min_count=10, normalize_tf=False, smooth=True, normalize_tfidf=None):\n",
        "    self.list_document = list_document\n",
        "    self.max_count = max_count\n",
        "    self.min_count = min_count\n",
        "    self.normalize_tf = normalize_tf\n",
        "    self.smooth = smooth\n",
        "    self.normalize_tfidf = normalize_tfidf\n",
        "\n",
        "    self.dictionary = dictionary if dictionary != None else self.create_dictionary()\n",
        "    self.word_to_index = self.mapping_word_to_index()\n",
        "    self.num_word = len(self.dictionary)\n",
        "    self.num_document = len(self.list_document)\n",
        "    self.matrix_word_count = self.create_count_matrix()\n",
        "    self.idf_score = self.compute_idf()\n",
        "  \n",
        "  # Query word given index based on dictionary\n",
        "  def retrieve_word(self, index):\n",
        "    if 0 <= index <= self.num_word - 1:\n",
        "      return self.dictionary[index]\n",
        "    else:\n",
        "      return -1\n",
        "  \n",
        "  # Query index given word based on dictionary\n",
        "  def retrieve_index(self, word):\n",
        "    return self.word_to_index.get(word.lower(), -1)\n",
        "\n",
        "  # Split document into list of words\n",
        "  def word_extraction(self, document):\n",
        "    split_word = document.split()\n",
        "    return split_word\n",
        "\n",
        "  def map_word_to_count(self):\n",
        "    dict_word_count = dict()\n",
        "    for i in range(len(self.list_document)):\n",
        "      list_word = self.word_extraction(self.list_document[i].lower())\n",
        "      for j in range(len(list_word)):\n",
        "        dict_word_count[list_word[j]] = dict_word_count.get(list_word[j], 0) + 1\n",
        "    return dict_word_count\n",
        "\n",
        "  def create_dictionary(self):\n",
        "    if self.max_count == None and self.min_count == None:\n",
        "      set_word = set()\n",
        "      for document in self.list_document:\n",
        "        set_word = set_word.union(set(self.word_extraction(document.lower())))\n",
        "    else:\n",
        "      set_word = set()\n",
        "      mapping_word_count = self.map_word_to_count()\n",
        "      for document in self.list_document:\n",
        "        list_word = self.word_extraction(document.lower())\n",
        "        for word in list_word:\n",
        "          if self.min_count != None:\n",
        "            if mapping_word_count[word] < self.min_count:\n",
        "              continue\n",
        "          if self.max_count != None:\n",
        "            if mapping_word_count[word] > self.max_count:\n",
        "              continue\n",
        "          set_word.add(word)\n",
        "    return sorted(list(set_word))\n",
        "\n",
        "  def mapping_word_to_index(self):\n",
        "    dict_encode = dict()\n",
        "    for i in range(len(self.dictionary)):\n",
        "      dict_encode[self.dictionary[i]] = i\n",
        "    return dict_encode\n",
        "\n",
        "  def create_count_matrix(self):\n",
        "    mat = np.zeros((self.num_document, self.num_word))\n",
        "    for i in range(len(self.list_document)):\n",
        "      document = self.list_document[i].lower()\n",
        "      list_word = self.word_extraction(document)\n",
        "      for j in range(len(list_word)):\n",
        "        ind = self.retrieve_index(list_word[j])\n",
        "        mat[i, ind] += 1\n",
        "    return mat\n",
        "\n",
        "  def compute_tf(self):\n",
        "    length_name = np.sum(self.matrix_word_count, axis=1)\n",
        "    if self.normalize_tf == True:\n",
        "      return self.matrix_word_count / np.reshape(length_name, (-1,1))\n",
        "    else:\n",
        "      return self.matrix_word_count\n",
        "\n",
        "  def compute_idf(self):\n",
        "    tmp = np.copy(self.matrix_word_count)\n",
        "    tmp[tmp!=0] = 1\n",
        "    num_doc_having_word = np.sum(tmp, axis=0)\n",
        "    if self.smooth == True:\n",
        "      # smoothen and avoid 0 in idf\n",
        "      num_doc_having_word = np.log((self.num_document + 1) / (num_doc_having_word + 1)) + 1\n",
        "    else:\n",
        "      # avoid 0 in idf\n",
        "      num_doc_having_word = np.log(self.num_document / num_doc_having_word) + 1\n",
        "    return np.reshape(num_doc_having_word, (1, self.num_word))\n",
        "\n",
        "  def compute_tf_idf(self):\n",
        "    tf = self.compute_tf()\n",
        "    idf = self.compute_idf()\n",
        "    tfidf = tf * idf\n",
        "    if self.normalize_tfidf == None:\n",
        "      return tfidf\n",
        "    elif self.normalize_tfidf == \"l2\":\n",
        "      sum_squares = np.reshape(np.diag(tfidf.dot(tfidf)), (1,-1))\n",
        "      return tfidf / sum_squares\n",
        "    elif self.normalize_tfidf == \"l1\":\n",
        "      sum_row = np.reshape(np.sum(tfidf, axis=1), (1,-1))\n",
        "      return tfidf / sum_row\n",
        "\n",
        "  ### Compute tf-idf for test set\n",
        "  def create_count_matrix_for_test(self, list_doc):\n",
        "    mat = np.zeros((len(list_doc), self.num_word))\n",
        "    for i in range(len(list_doc)):\n",
        "      document = list_doc[i].lower()\n",
        "      list_word = self.word_extraction(document)\n",
        "      for j in range(len(list_word)):\n",
        "        ind = self.retrieve_index(list_word[j])\n",
        "        if ind != -1:\n",
        "          mat[i, ind] += 1\n",
        "    return mat\n",
        "  \n",
        "  def compute_tf_for_test(self, matrix_count_document):\n",
        "    length_name = np.sum(matrix_count_document, axis=1)\n",
        "    if self.normalize_tf == True:\n",
        "      return matrix_count_document / np.reshape(length_name, (-1,1))\n",
        "    else:\n",
        "      return matrix_count_document\n",
        "\n",
        "  def compute_tf_idf_for_test(self, document):\n",
        "    matrix = self.create_count_matrix_for_test(document)\n",
        "    tf = self.compute_tf_for_test(matrix)\n",
        "    idf = self.idf_score\n",
        "    tfidf = tf * idf\n",
        "    if self.normalize_tfidf == None:\n",
        "      return tfidf\n",
        "    elif self.normalize_tfidf == \"l2\":\n",
        "      sum_squares = np.reshape(np.diag(tfidf.dot(tfidf)), (1,-1))\n",
        "      return tfidf / sum_squares\n",
        "    elif self.normalize_tfidf == \"l1\":\n",
        "      sum_row = np.reshape(np.sum(tfidf, axis=1), (1,-1))\n",
        "      return tfidf / sum_row"
      ],
      "metadata": {
        "id": "-1i9p5r3wVj8"
      },
      "execution_count": 33,
      "outputs": []
    },
    {
      "cell_type": "code",
      "source": [
        "def truncated_svd(X_train, X_test, random_state, n_components=100):\n",
        "    svd = TruncatedSVD(n_components=n_components, random_state=random_state)\n",
        "    svd.fit(X_train)\n",
        "    transformed_X_train = svd.transform(X_train)\n",
        "    transformed_X_test = svd.transform(X_test)\n",
        "    return transformed_X_train, transformed_X_test"
      ],
      "metadata": {
        "id": "HrMSdzT5xZcT"
      },
      "execution_count": 34,
      "outputs": []
    },
    {
      "cell_type": "code",
      "source": [
        "N_EPOCHS = 30\n",
        "RANDOM_STATE = 2023"
      ],
      "metadata": {
        "id": "3CZoIxsN3-6x"
      },
      "execution_count": 42,
      "outputs": []
    },
    {
      "cell_type": "code",
      "source": [
        "data = pd.read_csv(\"name_full.csv\")\n",
        "X = data[\"Full_Name\"].values\n",
        "y = data[\"Gender\"].values\n",
        "X_train, X_test, y_train, y_test = train_test_split(X, y, test_size=0.2, random_state=RANDOM_STATE, stratify=y)\n",
        "\n",
        "TF_IDF = Compute_TF_IDF(X_train)\n",
        "tfidf_X_train = TF_IDF.compute_tf_idf()\n",
        "tfidf_X_test = TF_IDF.compute_tf_idf_for_test(X_test)\n",
        "\n",
        "tfidf_X_train, tfidf_X_test = truncated_svd(tfidf_X_train, tfidf_X_test, random_state=RANDOM_STATE)"
      ],
      "metadata": {
        "id": "XRE4D_mhw9p5"
      },
      "execution_count": 35,
      "outputs": []
    },
    {
      "cell_type": "code",
      "source": [
        "tf.random.set_seed(RANDOM_STATE)\n",
        "model = tf.keras.Sequential()\n",
        "\n",
        "model.add(tf.keras.layers.Dense(20, activation='relu', input_shape=(tfidf_X_train.shape[1], )))\n",
        "model.add(tf.keras.layers.Dropout(0.5))\n",
        "model.add(tf.keras.layers.Dense(1, activation='sigmoid'))\n",
        "model.compile('adam', loss='binary_crossentropy', metrics=['accuracy'])\n",
        "history = model.fit(tfidf_X_train, y_train, batch_size=100, epochs=N_EPOCHS, validation_split=0.2)\n",
        "print('Test data')\n",
        "model.evaluate(tfidf_X_test, y_test)"
      ],
      "metadata": {
        "colab": {
          "base_uri": "https://localhost:8080/"
        },
        "id": "xoxZt9I8xoKK",
        "outputId": "4f3f6cef-c529-490f-87af-6045a76f7014"
      },
      "execution_count": 49,
      "outputs": [
        {
          "output_type": "stream",
          "name": "stdout",
          "text": [
            "Epoch 1/30\n",
            "172/172 [==============================] - 1s 3ms/step - loss: 0.5965 - accuracy: 0.6812 - val_loss: 0.3787 - val_accuracy: 0.8843\n",
            "Epoch 2/30\n",
            "172/172 [==============================] - 0s 2ms/step - loss: 0.3458 - accuracy: 0.8634 - val_loss: 0.2475 - val_accuracy: 0.9122\n",
            "Epoch 3/30\n",
            "172/172 [==============================] - 0s 2ms/step - loss: 0.2717 - accuracy: 0.8965 - val_loss: 0.2163 - val_accuracy: 0.9157\n",
            "Epoch 4/30\n",
            "172/172 [==============================] - 0s 2ms/step - loss: 0.2414 - accuracy: 0.9097 - val_loss: 0.2047 - val_accuracy: 0.9206\n",
            "Epoch 5/30\n",
            "172/172 [==============================] - 0s 2ms/step - loss: 0.2230 - accuracy: 0.9152 - val_loss: 0.2013 - val_accuracy: 0.9241\n",
            "Epoch 6/30\n",
            "172/172 [==============================] - 0s 2ms/step - loss: 0.2179 - accuracy: 0.9202 - val_loss: 0.1991 - val_accuracy: 0.9248\n",
            "Epoch 7/30\n",
            "172/172 [==============================] - 1s 3ms/step - loss: 0.2090 - accuracy: 0.9231 - val_loss: 0.1979 - val_accuracy: 0.9255\n",
            "Epoch 8/30\n",
            "172/172 [==============================] - 0s 3ms/step - loss: 0.2044 - accuracy: 0.9277 - val_loss: 0.1982 - val_accuracy: 0.9260\n",
            "Epoch 9/30\n",
            "172/172 [==============================] - 1s 3ms/step - loss: 0.2042 - accuracy: 0.9292 - val_loss: 0.1966 - val_accuracy: 0.9290\n",
            "Epoch 10/30\n",
            "172/172 [==============================] - 0s 3ms/step - loss: 0.2009 - accuracy: 0.9291 - val_loss: 0.1963 - val_accuracy: 0.9281\n",
            "Epoch 11/30\n",
            "172/172 [==============================] - 1s 3ms/step - loss: 0.2001 - accuracy: 0.9299 - val_loss: 0.1965 - val_accuracy: 0.9283\n",
            "Epoch 12/30\n",
            "172/172 [==============================] - 0s 2ms/step - loss: 0.1961 - accuracy: 0.9311 - val_loss: 0.1956 - val_accuracy: 0.9292\n",
            "Epoch 13/30\n",
            "172/172 [==============================] - 0s 2ms/step - loss: 0.1933 - accuracy: 0.9330 - val_loss: 0.1961 - val_accuracy: 0.9295\n",
            "Epoch 14/30\n",
            "172/172 [==============================] - 0s 2ms/step - loss: 0.1935 - accuracy: 0.9317 - val_loss: 0.1949 - val_accuracy: 0.9299\n",
            "Epoch 15/30\n",
            "172/172 [==============================] - 0s 3ms/step - loss: 0.1897 - accuracy: 0.9342 - val_loss: 0.1953 - val_accuracy: 0.9316\n",
            "Epoch 16/30\n",
            "172/172 [==============================] - 0s 2ms/step - loss: 0.1907 - accuracy: 0.9354 - val_loss: 0.1940 - val_accuracy: 0.9334\n",
            "Epoch 17/30\n",
            "172/172 [==============================] - 0s 2ms/step - loss: 0.1877 - accuracy: 0.9341 - val_loss: 0.1942 - val_accuracy: 0.9316\n",
            "Epoch 18/30\n",
            "172/172 [==============================] - 0s 2ms/step - loss: 0.1847 - accuracy: 0.9350 - val_loss: 0.1939 - val_accuracy: 0.9330\n",
            "Epoch 19/30\n",
            "172/172 [==============================] - 0s 2ms/step - loss: 0.1867 - accuracy: 0.9349 - val_loss: 0.1939 - val_accuracy: 0.9313\n",
            "Epoch 20/30\n",
            "172/172 [==============================] - 0s 2ms/step - loss: 0.1864 - accuracy: 0.9340 - val_loss: 0.1932 - val_accuracy: 0.9327\n",
            "Epoch 21/30\n",
            "172/172 [==============================] - 0s 2ms/step - loss: 0.1816 - accuracy: 0.9365 - val_loss: 0.1919 - val_accuracy: 0.9348\n",
            "Epoch 22/30\n",
            "172/172 [==============================] - 0s 2ms/step - loss: 0.1852 - accuracy: 0.9361 - val_loss: 0.1927 - val_accuracy: 0.9327\n",
            "Epoch 23/30\n",
            "172/172 [==============================] - 0s 2ms/step - loss: 0.1835 - accuracy: 0.9355 - val_loss: 0.1928 - val_accuracy: 0.9339\n",
            "Epoch 24/30\n",
            "172/172 [==============================] - 0s 2ms/step - loss: 0.1832 - accuracy: 0.9349 - val_loss: 0.1931 - val_accuracy: 0.9341\n",
            "Epoch 25/30\n",
            "172/172 [==============================] - 0s 2ms/step - loss: 0.1813 - accuracy: 0.9377 - val_loss: 0.1926 - val_accuracy: 0.9332\n",
            "Epoch 26/30\n",
            "172/172 [==============================] - 0s 2ms/step - loss: 0.1800 - accuracy: 0.9363 - val_loss: 0.1922 - val_accuracy: 0.9325\n",
            "Epoch 27/30\n",
            "172/172 [==============================] - 0s 2ms/step - loss: 0.1810 - accuracy: 0.9367 - val_loss: 0.1927 - val_accuracy: 0.9337\n",
            "Epoch 28/30\n",
            "172/172 [==============================] - 0s 2ms/step - loss: 0.1779 - accuracy: 0.9370 - val_loss: 0.1918 - val_accuracy: 0.9344\n",
            "Epoch 29/30\n",
            "172/172 [==============================] - 0s 2ms/step - loss: 0.1812 - accuracy: 0.9366 - val_loss: 0.1913 - val_accuracy: 0.9348\n",
            "Epoch 30/30\n",
            "172/172 [==============================] - 0s 2ms/step - loss: 0.1802 - accuracy: 0.9363 - val_loss: 0.1916 - val_accuracy: 0.9360\n",
            "Test data\n",
            "168/168 [==============================] - 0s 1ms/step - loss: 0.1589 - accuracy: 0.9477\n"
          ]
        },
        {
          "output_type": "execute_result",
          "data": {
            "text/plain": [
              "[0.1589060127735138, 0.9476820230484009]"
            ]
          },
          "metadata": {},
          "execution_count": 49
        }
      ]
    },
    {
      "cell_type": "code",
      "source": [
        "train_loss = history.history['loss']\n",
        "val_loss = history.history['val_loss']\n",
        "train_acc = history.history['accuracy']\n",
        "val_acc = history.history['val_accuracy']\n",
        "\n",
        "epochs = range(1, N_EPOCHS+1)\n",
        "\n",
        "# Plot loss\n",
        "plt.plot(epochs, train_loss, 'b-', label='Training Loss')\n",
        "plt.plot(epochs, val_loss, 'r-', label='Validation Loss')\n",
        "plt.title('Training and Validation Loss')\n",
        "plt.xlabel('Epochs')\n",
        "plt.ylabel('Loss')\n",
        "plt.legend()\n",
        "plt.show()"
      ],
      "metadata": {
        "colab": {
          "base_uri": "https://localhost:8080/",
          "height": 472
        },
        "id": "UONC7ce02Go3",
        "outputId": "e804e3c1-f1ff-4efe-dcd2-4e4ae1e30b72"
      },
      "execution_count": 50,
      "outputs": [
        {
          "output_type": "display_data",
          "data": {
            "text/plain": [
              "<Figure size 640x480 with 1 Axes>"
            ],
            "image/png": "[encoded data removed]"
          },
          "metadata": {}
        }
      ]
    }
  ]
}