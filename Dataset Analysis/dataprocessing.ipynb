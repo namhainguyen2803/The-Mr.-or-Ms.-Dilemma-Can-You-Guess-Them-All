{
 "cells": [
  {
   "cell_type": "code",
   "execution_count": 2,
   "metadata": {},
   "outputs": [],
   "source": [
    "import pandas as pd\n",
    "import matplotlib.pyplot as plt\n"
   ]
  },
  {
   "cell_type": "code",
   "execution_count": 3,
   "metadata": {},
   "outputs": [
    {
     "data": {
      "text/html": [
       "<div>\n",
       "<style scoped>\n",
       "    .dataframe tbody tr th:only-of-type {\n",
       "        vertical-align: middle;\n",
       "    }\n",
       "\n",
       "    .dataframe tbody tr th {\n",
       "        vertical-align: top;\n",
       "    }\n",
       "\n",
       "    .dataframe thead th {\n",
       "        text-align: right;\n",
       "    }\n",
       "</style>\n",
       "<table border=\"1\" class=\"dataframe\">\n",
       "  <thead>\n",
       "    <tr style=\"text-align: right;\">\n",
       "      <th></th>\n",
       "      <th>Full_Name</th>\n",
       "      <th>Gender</th>\n",
       "    </tr>\n",
       "  </thead>\n",
       "  <tbody>\n",
       "    <tr>\n",
       "      <th>0</th>\n",
       "      <td>Ngô Xuân Tùng</td>\n",
       "      <td>1</td>\n",
       "    </tr>\n",
       "    <tr>\n",
       "      <th>1</th>\n",
       "      <td>Bùi Dương Thảo Vy</td>\n",
       "      <td>0</td>\n",
       "    </tr>\n",
       "    <tr>\n",
       "      <th>2</th>\n",
       "      <td>Lưu Thế Huy</td>\n",
       "      <td>1</td>\n",
       "    </tr>\n",
       "    <tr>\n",
       "      <th>3</th>\n",
       "      <td>Nguyễn Thị Vân</td>\n",
       "      <td>0</td>\n",
       "    </tr>\n",
       "    <tr>\n",
       "      <th>4</th>\n",
       "      <td>Dương Minh Long</td>\n",
       "      <td>1</td>\n",
       "    </tr>\n",
       "  </tbody>\n",
       "</table>\n",
       "</div>"
      ],
      "text/plain": [
       "           Full_Name  Gender\n",
       "0      Ngô Xuân Tùng       1\n",
       "1  Bùi Dương Thảo Vy       0\n",
       "2        Lưu Thế Huy       1\n",
       "3     Nguyễn Thị Vân       0\n",
       "4    Dương Minh Long       1"
      ]
     },
     "execution_count": 3,
     "metadata": {},
     "output_type": "execute_result"
    }
   ],
   "source": [
    "file_path = \"/Users/nguyenbathiem/The-Mr.-or-Ms.-Dilemma-Can-You-Guess-Them-All-1/GenderPrediction/dataset/name_full.csv\"\n",
    "df = pd.read_csv(file_path)\n",
    "df.head()"
   ]
  },
  {
   "cell_type": "code",
   "execution_count": 4,
   "metadata": {},
   "outputs": [
    {
     "data": {
      "text/plain": [
       "0          Ngô Xuân Tùng\n",
       "1      Bùi Dương Thảo Vy\n",
       "2            Lưu Thế Huy\n",
       "3         Nguyễn Thị Vân\n",
       "4        Dương Minh Long\n",
       "             ...        \n",
       "95       Trần Thanh Toàn\n",
       "96       Nguyễn Nhựt Tân\n",
       "97         Võ Thị Cẩm Tú\n",
       "98            Lý Ái Liên\n",
       "99    Danh Thị Kiều Diễm\n",
       "Name: Full_Name, Length: 100, dtype: object"
      ]
     },
     "execution_count": 4,
     "metadata": {},
     "output_type": "execute_result"
    }
   ],
   "source": [
    "full_name = df[\"Full_Name\"]\n",
    "full_name[:100]"
   ]
  },
  {
   "cell_type": "markdown",
   "metadata": {},
   "source": [
    "To check the effiecent of results after processing\n",
    "1. Number of low frequency word is reduce\n",
    "2. Visualize and Look manually after comparing before and after data, may be use some metrics\n",
    "3. Testing with model"
   ]
  },
  {
   "cell_type": "markdown",
   "metadata": {},
   "source": [
    "Lê Thanh Hậu\n",
    "Phạm Thị Kim Trâm\n",
    "Lương Nguyễn Hoàng Nhi\n",
    "Bùi Huy Hoàng\n",
    "Nguyễn Anh TuẤn\n",
    "Võ Anh Thij\n",
    "Huỳnh Huyz\n",
    "Nguyeen Thị thu Hiền\n",
    "Trầnđìnhhuỳnh\n",
    "Nguyễn   giangNhã Trucs\n",
    "H Dân Ênuôl\n",
    "Phạm Thị Thương\n",
    "Võ Tường Vi\n",
    "Neáng Túch Srây Liák\n",
    "Võ Thị Lẹ\n",
    "Nguyễn HàmThiệu\n",
    "Tiên Ngojc quỳnh Như\n",
    "Phạm Nhật Duy\n",
    "Phạm Tiến Trung\n",
    "Nguyễn Thị Kim Liên\n",
    "Nê Thị Thanh Huyền\n",
    "Nguyễn Thị Ngọc Tuyền\n",
    "Nguyễn Thái Binhff\n",
    "Trần PhạmĐào Minh Hiếu\n",
    "HồVăn Tiến"
   ]
  },
  {
   "cell_type": "code",
   "execution_count": 11,
   "metadata": {},
   "outputs": [],
   "source": [
    "from wordcloud import WordCloud, STOPWORDS\n",
    "import wikipedia\n",
    "from PIL import Image\n",
    "\n",
    "stop_w = set(STOPWORDS)\n",
    "info = wikipedia.summary(\"Python (programming language)\")\n",
    "font_path = \"/Users/nguyenbathiem/Library/Fonts/BeVietnamPro-Light.ttf\"\n",
    "word_cloud = WordCloud(stopwords=stop_w, font_path=font_path).generate(info)\n",
    "image = word_cloud.to_image()\n",
    "image.show()\n"
   ]
  },
  {
   "cell_type": "code",
   "execution_count": 6,
   "metadata": {},
   "outputs": [
    {
     "name": "stdout",
     "output_type": "stream",
     "text": [
      "ngyễn bá thiêm\n"
     ]
    }
   ],
   "source": [
    "import random\n",
    "\n",
    "def generate_typo(word):\n",
    "    if len(word) < 1:\n",
    "        return word\n",
    "\n",
    "    # Common Telex mistakes\n",
    "    telex_mistakes = {\n",
    "        'â': 'a',\n",
    "        'ă': 'a',\n",
    "        'ê': 'e',\n",
    "        'ô': 'o',\n",
    "        'ơ': 'o',\n",
    "        'ư': 'u',\n",
    "        'đ': 'd'\n",
    "    }\n",
    "\n",
    "    typo_type = random.randint(1,3)\n",
    "    index = random.randint(0,len(word)-1)\n",
    "\n",
    "    # Substitution: Telex mistakes\n",
    "    if typo_type == 1:\n",
    "        if word[index] in telex_mistakes:\n",
    "            sub_char = telex_mistakes[word[index]]\n",
    "            typo = word[:index] + sub_char + word[index+1:]\n",
    "        else:\n",
    "            typo = word\n",
    "\n",
    "    # Deletion\n",
    "    elif typo_type == 2:\n",
    "        typo = word[:index] + word[index+1:]\n",
    "\n",
    "    # Insertion\n",
    "    else:\n",
    "        alphabet = 'aăâbcdđeêghiklmnoôơpqrstuưvxyfjwz'\n",
    "        insert_char = random.choice(alphabet)\n",
    "        typo = word[:index] + insert_char + word[index:]\n",
    "\n",
    "    return typo\n",
    "\n",
    "print(generate_typo('nguyễn bá thiêm'))\n"
   ]
  },
  {
   "cell_type": "code",
   "execution_count": 28,
   "metadata": {},
   "outputs": [
    {
     "data": {
      "text/html": [
       "<div>\n",
       "<style scoped>\n",
       "    .dataframe tbody tr th:only-of-type {\n",
       "        vertical-align: middle;\n",
       "    }\n",
       "\n",
       "    .dataframe tbody tr th {\n",
       "        vertical-align: top;\n",
       "    }\n",
       "\n",
       "    .dataframe thead th {\n",
       "        text-align: right;\n",
       "    }\n",
       "</style>\n",
       "<table border=\"1\" class=\"dataframe\">\n",
       "  <thead>\n",
       "    <tr style=\"text-align: right;\">\n",
       "      <th></th>\n",
       "      <th>Full_Name</th>\n",
       "      <th>Gender</th>\n",
       "    </tr>\n",
       "  </thead>\n",
       "  <tbody>\n",
       "    <tr>\n",
       "      <th>0</th>\n",
       "      <td>Ngô Xuân Tùng</td>\n",
       "      <td>1</td>\n",
       "    </tr>\n",
       "    <tr>\n",
       "      <th>1</th>\n",
       "      <td>Bùi Dương Thảo Vy</td>\n",
       "      <td>0</td>\n",
       "    </tr>\n",
       "    <tr>\n",
       "      <th>2</th>\n",
       "      <td>Lưu Thế Huy</td>\n",
       "      <td>1</td>\n",
       "    </tr>\n",
       "    <tr>\n",
       "      <th>3</th>\n",
       "      <td>Nguyễn Thị Vân</td>\n",
       "      <td>0</td>\n",
       "    </tr>\n",
       "    <tr>\n",
       "      <th>4</th>\n",
       "      <td>Dương Minh Long</td>\n",
       "      <td>1</td>\n",
       "    </tr>\n",
       "  </tbody>\n",
       "</table>\n",
       "</div>"
      ],
      "text/plain": [
       "           Full_Name  Gender\n",
       "0      Ngô Xuân Tùng       1\n",
       "1  Bùi Dương Thảo Vy       0\n",
       "2        Lưu Thế Huy       1\n",
       "3     Nguyễn Thị Vân       0\n",
       "4    Dương Minh Long       1"
      ]
     },
     "execution_count": 28,
     "metadata": {},
     "output_type": "execute_result"
    }
   ],
   "source": [
    "value = df[\"Gender\"]\n",
    "lst =[]\n",
    "with open(\"processed_data-10.txt\",\"r\") as file:\n",
    "    for line in file:\n",
    "        lst.append(line[:-1])\n",
    "new_data = {\"Full_Name\":[],\"Gender\":[]}\n",
    "n=len(value)\n",
    "for i in range(n):\n",
    "    if lst[i] != \"X\":\n",
    "        new_data[\"Full_Name\"].append(lst[i])\n",
    "        new_data[\"Gender\"].append(value[i])\n",
    "ddf = pd.DataFrame(new_data)\n",
    "file_path = \"/Users/nguyenbathiem/The-Mr.-or-Ms.-Dilemma-Can-You-Guess-Them-All-1/GenderPrediction/dataset/gpt_name_full.csv\"\n",
    "ddf.to_csv(file_path,index=False, sep=',')\n",
    "ddf.head()\n"
   ]
  }
 ],
 "metadata": {
  "kernelspec": {
   "display_name": "Python 3 (ipykernel)",
   "language": "python",
   "name": "python3"
  },
  "language_info": {
   "codemirror_mode": {
    "name": "ipython",
    "version": 3
   },
   "file_extension": ".py",
   "mimetype": "text/x-python",
   "name": "python",
   "nbconvert_exporter": "python",
   "pygments_lexer": "ipython3",
   "version": "3.10.9"
  }
 },
 "nbformat": 4,
 "nbformat_minor": 4
}
