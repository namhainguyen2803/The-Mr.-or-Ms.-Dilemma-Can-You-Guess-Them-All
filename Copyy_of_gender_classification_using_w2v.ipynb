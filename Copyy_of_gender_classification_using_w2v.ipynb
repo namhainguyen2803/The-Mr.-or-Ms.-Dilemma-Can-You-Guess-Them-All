{
  "cells": [
    {
      "cell_type": "markdown",
      "metadata": {
        "id": "view-in-github",
        "colab_type": "text"
      },
      "source": [
        "<a href=\"https://colab.research.google.com/github/namhainguyen2803/The-Mr.-or-Ms.-Dilemma-Can-You-Guess-Them-All/blob/THIEM/Copyy_of_gender_classification_using_w2v.ipynb\" target=\"_parent\"><img src=\"https://colab.research.google.com/assets/colab-badge.svg\" alt=\"Open In Colab\"/></a>"
      ]
    },
    {
      "cell_type": "markdown",
      "metadata": {
        "id": "reRjw4kwkc1f"
      },
      "source": [
        "# Connect to google drive\n"
      ]
    },
    {
      "cell_type": "code",
      "execution_count": 1,
      "metadata": {
        "colab": {
          "base_uri": "https://localhost:8080/"
        },
        "id": "bO0YJmFxFKJz",
        "outputId": "8919679f-c4ec-4b76-bc26-873225c017ba"
      },
      "outputs": [
        {
          "output_type": "stream",
          "name": "stdout",
          "text": [
            "Mounted at /content/drive\n"
          ]
        }
      ],
      "source": [
        "from google.colab import drive\n",
        "drive.mount('/content/drive', force_remount=True)"
      ]
    },
    {
      "cell_type": "markdown",
      "metadata": {
        "id": "3O-0OXiLkt-i"
      },
      "source": [
        "# Import basic library"
      ]
    },
    {
      "cell_type": "code",
      "execution_count": 2,
      "metadata": {
        "id": "NroXWry-FUh2"
      },
      "outputs": [],
      "source": [
        "import pandas as pd\n",
        "import numpy as np\n",
        "import re\n",
        "import sys"
      ]
    },
    {
      "cell_type": "markdown",
      "metadata": {
        "id": "l1lRiU02k32a"
      },
      "source": [
        "# Import data file"
      ]
    },
    {
      "cell_type": "code",
      "execution_count": 3,
      "metadata": {
        "colab": {
          "base_uri": "https://localhost:8080/",
          "height": 201
        },
        "id": "NgNUC7-0FW2z",
        "outputId": "2570e8f1-ada1-4503-f15e-b223ddf71a93"
      },
      "outputs": [
        {
          "output_type": "execute_result",
          "data": {
            "text/plain": [
              "           Full_Name  Gender\n",
              "0      Ngô Xuân Tùng       1\n",
              "1  Bùi Dương Thảo Vy       0\n",
              "2        Lưu Thế Huy       1\n",
              "3     Nguyễn Thị Vân       0\n",
              "4    Dương Minh Long       1"
            ],
            "text/html": [
              "\n",
              "  <div id=\"df-6bdf3dbe-5e8b-4ae8-bd68-7686fc7ee4fa\">\n",
              "    <div class=\"colab-df-container\">\n",
              "      <div>\n",
              "<style scoped>\n",
              "    .dataframe tbody tr th:only-of-type {\n",
              "        vertical-align: middle;\n",
              "    }\n",
              "\n",
              "    .dataframe tbody tr th {\n",
              "        vertical-align: top;\n",
              "    }\n",
              "\n",
              "    .dataframe thead th {\n",
              "        text-align: right;\n",
              "    }\n",
              "</style>\n",
              "<table border=\"1\" class=\"dataframe\">\n",
              "  <thead>\n",
              "    <tr style=\"text-align: right;\">\n",
              "      <th></th>\n",
              "      <th>Full_Name</th>\n",
              "      <th>Gender</th>\n",
              "    </tr>\n",
              "  </thead>\n",
              "  <tbody>\n",
              "    <tr>\n",
              "      <th>0</th>\n",
              "      <td>Ngô Xuân Tùng</td>\n",
              "      <td>1</td>\n",
              "    </tr>\n",
              "    <tr>\n",
              "      <th>1</th>\n",
              "      <td>Bùi Dương Thảo Vy</td>\n",
              "      <td>0</td>\n",
              "    </tr>\n",
              "    <tr>\n",
              "      <th>2</th>\n",
              "      <td>Lưu Thế Huy</td>\n",
              "      <td>1</td>\n",
              "    </tr>\n",
              "    <tr>\n",
              "      <th>3</th>\n",
              "      <td>Nguyễn Thị Vân</td>\n",
              "      <td>0</td>\n",
              "    </tr>\n",
              "    <tr>\n",
              "      <th>4</th>\n",
              "      <td>Dương Minh Long</td>\n",
              "      <td>1</td>\n",
              "    </tr>\n",
              "  </tbody>\n",
              "</table>\n",
              "</div>\n",
              "      <button class=\"colab-df-convert\" onclick=\"convertToInteractive('df-6bdf3dbe-5e8b-4ae8-bd68-7686fc7ee4fa')\"\n",
              "              title=\"Convert this dataframe to an interactive table.\"\n",
              "              style=\"display:none;\">\n",
              "        \n",
              "  <svg xmlns=\"http://www.w3.org/2000/svg\" height=\"24px\"viewBox=\"0 0 24 24\"\n",
              "       width=\"24px\">\n",
              "    <path d=\"M0 0h24v24H0V0z\" fill=\"none\"/>\n",
              "    <path d=\"M18.56 5.44l.94 2.06.94-2.06 2.06-.94-2.06-.94-.94-2.06-.94 2.06-2.06.94zm-11 1L8.5 8.5l.94-2.06 2.06-.94-2.06-.94L8.5 2.5l-.94 2.06-2.06.94zm10 10l.94 2.06.94-2.06 2.06-.94-2.06-.94-.94-2.06-.94 2.06-2.06.94z\"/><path d=\"M17.41 7.96l-1.37-1.37c-.4-.4-.92-.59-1.43-.59-.52 0-1.04.2-1.43.59L10.3 9.45l-7.72 7.72c-.78.78-.78 2.05 0 2.83L4 21.41c.39.39.9.59 1.41.59.51 0 1.02-.2 1.41-.59l7.78-7.78 2.81-2.81c.8-.78.8-2.07 0-2.86zM5.41 20L4 18.59l7.72-7.72 1.47 1.35L5.41 20z\"/>\n",
              "  </svg>\n",
              "      </button>\n",
              "      \n",
              "  <style>\n",
              "    .colab-df-container {\n",
              "      display:flex;\n",
              "      flex-wrap:wrap;\n",
              "      gap: 12px;\n",
              "    }\n",
              "\n",
              "    .colab-df-convert {\n",
              "      background-color: #E8F0FE;\n",
              "      border: none;\n",
              "      border-radius: 50%;\n",
              "      cursor: pointer;\n",
              "      display: none;\n",
              "      fill: #1967D2;\n",
              "      height: 32px;\n",
              "      padding: 0 0 0 0;\n",
              "      width: 32px;\n",
              "    }\n",
              "\n",
              "    .colab-df-convert:hover {\n",
              "      background-color: #E2EBFA;\n",
              "      box-shadow: 0px 1px 2px rgba(60, 64, 67, 0.3), 0px 1px 3px 1px rgba(60, 64, 67, 0.15);\n",
              "      fill: #174EA6;\n",
              "    }\n",
              "\n",
              "    [theme=dark] .colab-df-convert {\n",
              "      background-color: #3B4455;\n",
              "      fill: #D2E3FC;\n",
              "    }\n",
              "\n",
              "    [theme=dark] .colab-df-convert:hover {\n",
              "      background-color: #434B5C;\n",
              "      box-shadow: 0px 1px 3px 1px rgba(0, 0, 0, 0.15);\n",
              "      filter: drop-shadow(0px 1px 2px rgba(0, 0, 0, 0.3));\n",
              "      fill: #FFFFFF;\n",
              "    }\n",
              "  </style>\n",
              "\n",
              "      <script>\n",
              "        const buttonEl =\n",
              "          document.querySelector('#df-6bdf3dbe-5e8b-4ae8-bd68-7686fc7ee4fa button.colab-df-convert');\n",
              "        buttonEl.style.display =\n",
              "          google.colab.kernel.accessAllowed ? 'block' : 'none';\n",
              "\n",
              "        async function convertToInteractive(key) {\n",
              "          const element = document.querySelector('#df-6bdf3dbe-5e8b-4ae8-bd68-7686fc7ee4fa');\n",
              "          const dataTable =\n",
              "            await google.colab.kernel.invokeFunction('convertToInteractive',\n",
              "                                                     [key], {});\n",
              "          if (!dataTable) return;\n",
              "\n",
              "          const docLinkHtml = 'Like what you see? Visit the ' +\n",
              "            '<a target=\"_blank\" href=https://colab.research.google.com/notebooks/data_table.ipynb>data table notebook</a>'\n",
              "            + ' to learn more about interactive tables.';\n",
              "          element.innerHTML = '';\n",
              "          dataTable['output_type'] = 'display_data';\n",
              "          await google.colab.output.renderOutput(dataTable, element);\n",
              "          const docLink = document.createElement('div');\n",
              "          docLink.innerHTML = docLinkHtml;\n",
              "          element.appendChild(docLink);\n",
              "        }\n",
              "      </script>\n",
              "    </div>\n",
              "  </div>\n",
              "  "
            ]
          },
          "metadata": {},
          "execution_count": 3
        }
      ],
      "source": [
        "parent_path = \"/content\"\n",
        "# training_path = parent_path + \"/name_train.csv\"\n",
        "# dev_path = parent_path + \"/name_dev.csv\"\n",
        "# test_path = parent_path + \"/name_test.csv\"\n",
        "data_path = parent_path + \"/name_full.csv\"\n",
        "df = pd.read_csv(data_path)\n",
        "df.head()"
      ]
    },
    {
      "cell_type": "markdown",
      "metadata": {
        "id": "XD3fZTt_l6U7"
      },
      "source": [
        "# Processing data"
      ]
    },
    {
      "cell_type": "code",
      "execution_count": 4,
      "metadata": {
        "colab": {
          "base_uri": "https://localhost:8080/"
        },
        "id": "MFKsgE0jIB4g",
        "outputId": "0f8e8310-6d9c-4efe-b86f-8a6749c86560"
      },
      "outputs": [
        {
          "output_type": "stream",
          "name": "stdout",
          "text": [
            "26851\n"
          ]
        },
        {
          "output_type": "execute_result",
          "data": {
            "text/plain": [
              "[['ngô', 'xuân', 'tùng'],\n",
              " ['bùi', 'dương', 'thảo', 'vy'],\n",
              " ['lưu', 'thế', 'huy'],\n",
              " ['nguyễn', 'thị', 'vân'],\n",
              " ['dương', 'minh', 'long'],\n",
              " ['trần', 'mai', 'khanh'],\n",
              " ['nguyễn', 'thị', 'hồng', 'diệp'],\n",
              " ['nguyễn', 'hoàng', 'khang'],\n",
              " ['thi', 'ngọc', 'thái'],\n",
              " ['nguyễn', 'anh', 'huy']]"
            ]
          },
          "metadata": {},
          "execution_count": 4
        }
      ],
      "source": [
        "full_data = df[\"Full_Name\"]\n",
        "print(len(full_data))\n",
        "full_split_data = [sentence.lower().split() for sentence in full_data]\n",
        "full_split_data[:10]"
      ]
    },
    {
      "cell_type": "markdown",
      "metadata": {
        "id": "GvTB3G5mmECO"
      },
      "source": [
        "# Convert word to vector"
      ]
    },
    {
      "cell_type": "code",
      "execution_count": 5,
      "metadata": {
        "id": "mz1VgRL8mhYK"
      },
      "outputs": [],
      "source": [
        "from gensim.models import Word2Vec"
      ]
    },
    {
      "cell_type": "markdown",
      "metadata": {
        "id": "7-3x9U_6nZML"
      },
      "source": [
        "Run model to convert a word to vector\n"
      ]
    },
    {
      "cell_type": "code",
      "source": [
        "min_count = 1\n",
        "vector_size =100\n",
        "window =3"
      ],
      "metadata": {
        "id": "Px4DEMODwDf8"
      },
      "execution_count": 6,
      "outputs": []
    },
    {
      "cell_type": "code",
      "execution_count": 7,
      "metadata": {
        "id": "CeTed6MyI7Lq"
      },
      "outputs": [],
      "source": [
        "model = Word2Vec(sentences=full_split_data, vector_size = vector_size, min_count=min_count, window = window, workers=4)\n"
      ]
    },
    {
      "cell_type": "markdown",
      "metadata": {
        "id": "xJy4i0Ofn2o1"
      },
      "source": [
        "Testing for some simlar words"
      ]
    },
    {
      "cell_type": "code",
      "execution_count": 8,
      "metadata": {
        "colab": {
          "base_uri": "https://localhost:8080/"
        },
        "id": "jJ8YbsWHJQoY",
        "outputId": "6d34693a-6db4-4826-d439-37259c4d08d8"
      },
      "outputs": [
        {
          "output_type": "stream",
          "name": "stdout",
          "text": [
            "[0. 0. 0. 0. 0. 0. 0. 0. 0. 0. 0. 0. 0. 0. 0. 0. 0. 0. 0. 0. 0. 0. 0. 0.\n",
            " 0. 0. 0. 0. 0. 0. 0. 0. 0. 0. 0. 0. 0. 0. 0. 0. 0. 0. 0. 0. 0. 0. 0. 0.\n",
            " 0. 0. 0. 0. 0. 0. 0. 0. 0. 0. 0. 0. 0. 0. 0. 0. 0. 0. 0. 0. 0. 0. 0. 0.\n",
            " 0. 0. 0. 0. 0. 0. 0. 0. 0. 0. 0. 0. 0. 0. 0. 0. 0. 0. 0. 0. 0. 0. 0. 0.\n",
            " 0. 0. 0. 0.]\n",
            "[('loan', 0.9976987242698669), ('chi', 0.9972754716873169), ('sương', 0.9971023797988892), ('hoa', 0.9965429902076721), ('tuyền', 0.9961760640144348), ('thoa', 0.9960600137710571), ('ly', 0.9954703450202942), ('liên', 0.9948725700378418), ('mai', 0.9941617250442505), ('lệ', 0.9938470721244812)]\n"
          ]
        }
      ],
      "source": [
        "word_vector = model.wv[\"phượng\"]\n",
        "print(np.zeros((vector_size,)))\n",
        "similar_words = model.wv.most_similar('phượng')\n",
        "print(similar_words) "
      ]
    },
    {
      "cell_type": "code",
      "source": [
        "full_words = set()\n",
        "for sentence in full_split_data:\n",
        "  full_words = full_words.union(set(sentence))\n",
        "print(full_words)\n"
      ],
      "metadata": {
        "colab": {
          "base_uri": "https://localhost:8080/"
        },
        "id": "PLmpcDG2zIfr",
        "outputId": "d72ea2c6-29be-4c84-8ae0-fd903cebfcc7"
      },
      "execution_count": 9,
      "outputs": [
        {
          "output_type": "stream",
          "name": "stdout",
          "text": [
            "{'dzoãn', 'pa', 'ênuôl', 'rơ', 'đơn', 'phụng', 'thôi', 'huyến', 'mậu', 'xiêng', 'nho', 'viếttiến', 'viên', 'úc', 'đăng', 'lễ', 'giáp', 'bổn', 'viển', 'bìn', 'trực', 'kunh', 'hwing', 'ngọc', 'vân', 'kông', 'ngọccát', 'quản', 'nông', 'tỵ', 'tần', 'tố', 'đặngkim', 'giáng', 'mấu', 'hảithiên', 'diểm', 'hành', 'din', 'loang', 'in', 'sâm', 'tri', 'phạmminh', 'quỳnh', 'điêu', 'thứ', 'gần', 'nử', 'tín', 'hữu', 'thương', 'thảo', 'linh', 'đảm', 'diu', 'phạmnguyễn', 'nhỉ', 'cát', 'giầu', 'nhài', 'trân', 'kỵ', 'ngọcthi', 'thoản', 'quô', 'cung', 'hưng', 'não', 'tầng', 'mận', 'borlommavo', 'nhỏ', 'vang', 'ngàn', 'huỳnhvũ', 'cam', 'đề', 'triệuthanh', 'lam', 'thiệu', 'phòng', 'chiếm', 'ướt', 'thuyết', 'yến', 'tuấn', 'sanh', 'thoa', 'sỉ', 'núi', 'cước', 'hay', 'kiệt', 'thuận', 'yên', 'the', 'mùi', 'khuê', 'thùy', 'hă', 'đi', 'đạt', 'tồn', 'dủ', 'voòng', 'nguyên', 'thụ', 'khá', 'nơ', 'lày', 'phôm', 'heng', 'khế', 'hông', 'tranh', 'trải', 'ka', 'tam', 'thù', 'hữuquỳnh', 'liêm', 'thất', 'dàn', 'đ', 'chinh', 'năng', 'xứng', 'hư', 'họp', 'ngô', 'tuyển', 'tuệ', 'ba', 'ngự', 'hàn', 'toản', 'tỉ', 'phạmquốc', 'cẫm', 'da', 'kì', 'dây', 'xí', 'yêm', 'hài', 'biển', 'hão', 'brích', 'loát', 'danh', 'rin', 'tư', 'phụ', 'cảnh', 'tụ', 'hín', 'thiêu', 'hùynh', 'triệu', 'trúc', 'chu', 'trin', 'mó', 'mạch', 'bỉnh', 'chề', 'phạmđức', 'huỳnh', 'line', 'đă', 'âu', 'đoa', 'đỉnh', 'bính', 'thập', 'chất', 'sáng', 'hắc', 'lâu', 'makara', 'thã', 'xương', 'viễn', 'huỳnhchí', 'mã', 'cù', 'sản', 'vu', 'huỳnhphước', 'ô', 'êban', 'nhẩn', 'rmah', 'nhu', 'thật', 'mừng', 'kha', 'y', 'ái', 'cổ', 'hạng', 'thuynh', 'song', 'quân', 'em', 'phong', 'uyển', 'dư', 'tuyến', 'minh', 'vớt', 'phỉnh', 'thụy', 'ny', 'niê', 'hô', 'my', 'đầu', 'thận', 'đến', 'lôi', 'truyên', 'bốn', 'nội', 'chánh', 'niềm', 'phạmxích', 'tổng', 'hứa', 'khương', 'hiểu', 'dal', 'nữ', 'hồnguyễn', 'von', 'lô', 'cây', 'hằng', 'thẩm', 'trầnthị', 'hòa', 'tiểu', 'mạc', 'gùin', 'hmun', 'ánh', 'tuyễn', 'ngôn', 'naria', 'trọng', 'giản', 'nguyê', 'phấn', 'diệu', 'đồng', 'phạmnhật', 'khổng', 'lư', 'giới', 'mộng', 'a', 'joan', 'ngưu', 'mạnh', 'khái', 'thiều', 'vọng', 'tuyền', 'cưng', 'khải', 'krim', 'mây', 'trỹu', 'sa', 'trác', 'độ', 'báo', 'gấm', 'thịnh', 'đổng', 'dân', 'ưng', 'từ', 'nhung', 'vỏ', 'sớm', 'tây', 'đậu', 'knul', 'trằm', 'trươngthị', 'nút', 'hồ', 'panh', 'đa', 'bữu', 'huỳnhhồái', 'bằng', 'qui', 'hồphạmdĩ', 'kiềuthị', 'thao', 'nết', 'hửu', 'mô', 'trứ', 'tử', 'ril', 'nouraldin', 'thúc', 'ÿàng', 'mâ', 'học', 'thuấn', 'aty', 'lơng', 'sữu', 'sơ', 'triều', 'tounẻh', 'ngọctuyết', 'rcom', 'ph', 'bùi', 'chanh', 'bim', 'rit', 'tưởng', 'vưu', 'huỳnhái', 'chềnh', 'phông', 'mau', 'tạ', 'gioách', 'ly', 'doan', 'tốt', 'uynh', 'trụ', 'váy', 'viết', 'diễm', 'dịu', 'thỏa', 'nghiên', 'dá', 'mãi', 'của', 'ron', 'hồng', 'nguyền', 'binh', 'siêu', 'liễm', 'bơ', 'vày', 'chơn', 'gruyêng', 'dy', 'nhất', 'cún', 'thụythanh', 'đạo', 'toukmany', 'phạmkhắc', 'lộ', 'thêu', 'saly', 'quyết', 'lục', 'sẻ', 'grưm', 'trần', 'tứ', 'thê', 'kháng', 'phên', 'tuy', 'khanh', 'thổ', 'nhuy', 'trát', 'điệu', 'nựp', 'dụng', 'chuyền', 'hoạt', 'bă', 'huỳnhtrần', 'lào', 'nghi', 'hiền', 'cửu', 'viếtquang', 'lưỡng', 'túc', 'huỳnhthanh', 'kiềuhồng', 'nin', 'ngụy', 'sreydeth', 'triết', 'nhộc', 'các', 'tiện', 'ñĭng', 'ksơr', 'chức', 'trấn', 'lồng', 'chế', 'thiết', 'bất', 'phiên', 'đẵng', 'nhạn', 'ngôi', 'lài', 'nguyệt', 'giàu', 'phạmtrọng', 'luys', 'dần', 'menghor', 'thuyền', 'về', 'đích', 'trang', 'janơ', 'ngư', 'phí', 'xira', 'srây', 'thoan', 'lạiminh', 'lơ', 'oai', 'ong', 'sẩm', 'lem', 'vủ', 'rạng', 'tạng', 'toãn', 'diên', 'mlô', 'dỉ', 'phù', 'khôn', 'mund', 'tày', 'mỹ', 'vĩnh', 'khảo', 'mĩ', 'qúi', 'quyền', 'chheang', 'vanhthavy', 'huynh', 'đặnghoàng', 'tươi', 'diện', 'vạn', 'sinh', 'đàn', 'pơ', 'tường', 'lầu', 'trâ', 'lum', 'thỉnh', 'lể', 'đế', 'ngà', 'vẩy', 'ngo', 'liêu', 'thưng', 'cà', 'huỳnhvăn', 'pliêu', 'khai', 'thuần', 'tằng', 'đoàn', 'chung', 'nhựt', 'tống', 'nhí', 'thủ', 'đồngthị', 'vin', 'ngạn', 'sari', 'ni', 'ẩn', 'thảotuyết', 'tu', 'liên', 'ca', 'ben', 'đinh', 'kiềulê', 'phú', 'xuân', 'giác', 'vôn', 'phạmlinh', 'chăm', 'trầnphước', 'đao', 'huyện', 'hiệp', 'pă', 'chiểu', 'hồvăn', 'láng', 'giang', 'sú', 'dầu', 'san', 'bãng', 'thọ', 'thể', 'nàng', 'hán', 'thuỵ', 'khâm', 'khưu', 'thìn', 'phạmthiên', 'mi', 'dinh', 'kiều', 'cúc', 'thánh', 'trí', 'trưa', 'huỳnhnhư', 'mu', 'dâng', 'luận', 'h', 'nhàn', 'thiê', 'đắc', 'phó', 'thủy', 'lãm', 'tuyêt', 'lãng', 'tân', 'trình', 'hận', 'đệ', 'chương', 'phoen', 'dễ', 'hồxuân', 'sam', 'tấn', 'liểu', 'kế', 'sec', 'thục', 'tuất', 'lanh', 'nghịch', 'đèo', 'hiê', 'krong', 'đại', 'mộc', 'lành', 'zi', 'thành', 'lò', 'ngoc', 'tiê', 'nhận', 'đức', 'miêu', 'diệm', 'búp', 'tịnh', 'tiềm', 'sống', 'thược', 'viện', 'mẩn', 'sim', 'tú', 'trảo', 'nai', 'sư', 'riêm', 'bàn', 'huệ', 'vận', 'ức', 'trường', 'ty', 'hồnhư', 'séo', 'lại', 'thiệnđào', 'tô', 'lêphước', 'qalal', 'quynh', 'quả', 'nhẫn', 'vũmỹ', 'ninh', 'khởi', 'tập', 'kiên', 'du', 'bê', 'quy', 'i', 'thiệt', 'phoummipho', 'lợi', 'thă', 'dũng', 'hạnh', 'bảo', 'đồ', 'nhiu', 'cao', 'tr', 'khuất', 'duy', 'la', 'ngọt', 'hầu', 'thùys', 'chủ', 'ngọcbảo', 'kbuôr', 'thám', 'ta', 'sắc', 'sơn', 'tông', 'ung', 'nguyện', 'quát', 'mụi', 'chiêm', 'mào', 'như', 'ngoại', 'kiễu', 'vinh', 'lừ', 'phô', 'gia', 'đư', 'phạmthanh', 'quấn', 'tăng', 'u', 'luyến', 'hái', 'trâm', 'quế', 'thuỷ', 'hoanh', 'ktla', 'trượng', 'nhịt', 'qua', 'ổn', 'túy', 'sua', 'đặng', 'cang', 'bão', 'lily', 'quất', 'thiêng', 'nhạ', 'nhanh', 'kiểng', 'huỳnhkỳ', 'đủ', 'on', 'trạng', 'ư', 'cư', 'toại', 'thoat', 'aỹun', 'hoành', 'til', 'huỳnhthị', 'bút', 'điễm', 'nì', 'sin', 'c', 'lượng', 'chân', 'thuý', 'hợi', 'hộp', 'huyên', 'ban', 'trùng', 'hoàn', 'đấu', 'k', 'toàn', 'khiết', 'chướng', 'kiến', 'truyền', 'trầntrọng', 'dang', 'khắc', 'điền', 'visal', 'hồnguyên', 'hảo', 'biện', 'hồcẩm', 'khoái', 'nơi', 'sử', 'vịnh', 'mì', 'chị', 'kiềuphi', 'huy', 'đặngtrần', 'bảocát', 'phạmtiến', 'túch', 'phương', 'khiêm', 'konsơ', 'ê', 'quàng', 'thiếp', 'bao', 'giàng', 'lê', 'bửu', 'cặp', 'dĩ', 'yum', 'tặng', 'chiến', 'tem', 'trung', 'doanh', 'ngọctường', 'as', 'sỹ', 'siê', 'ao', 'tiên', 'tài', 'nên', 'thống', 'lin', 'dục', 'sự', 'diển', 'sen', 'ân', 'thông', 'nga', 'tâm', 'nhưng', 'đôn', 'nhâm', 'sung', 'chuẩn', 'tìa', 'na', 'miên', 'ngụ', 'nh', 'biêu', 'lảm', 'tôn', 'đông', 'hmor', 'chỉnh', 'bến', 'phạmkim', 'phường', 'huang', 'ngâu', 'nghỉa', 'thơm', 'rịch', 'tý', 'vư', 'phẩn', 'nasi', 'mang', 'nish', 'hàng', 'tào', 'cắm', 'keokhounmeuang', 'hiến', 'phải', 'cẩn', 'duẩn', 'hào', 'bên', 'vui', 'chắn', 'thức', 'út', 'huân', 'vai', 'nghé', 'phàn', 'chắt', 'kiện', 'biên', 'bình', 'thúy', 'thơ', 'hiếu', 'báu', 'phốc', 'hiện', 'tiêu', 'nhụy', 'bồi', 'hồbảo', 'phạmhuỳnh', 'soan', 'soa', 'đặngthảo', 'nhiều', 'lâm', 'ká', 'sẹc', 'phạmtrung', 'th', 'khen', 'uyên', 'tha', 'si', 'đương', 'lữ', 'dass', 'gi', 'tiến', 'trinh', 'be', 'hra', 'nil', 'khuyên', 'hanh', 'ry', 'hiệu', 'thà', 'vay', 'thư', 'thắm', 'thuân', 'hai', 'tuế', 'ra', 'anousone', 'xi', 'kpă', 'ngào', 'ngữ', 'tiếu', 'bun', 'dũ', 'tiệp', 'nam', 'thực', 'trương', 'rim', 'hy', 'điệp', 'nghiệp', 'bi', 'hội', 'o', 'phin', 'loan', 'giô', 'chely', 'cầm', 'thị', 'huỳnhmai', 'thét', 'nhin', 'vy', 'vỉnh', 'nhường', 'ral', 'văng', 'đà', 'lụa', 'phùng', 'phê', 'tất', 'kong', 'thom', 'hướng', 'tuyên', 'sỷ', 'hồngọc', 'ôn', 'cương', 'lắc', 'puih', 'trị', 'khách', 'luôn', 'huỳnhnhật', 'thuy', 'tinh', 'lường', 'luyện', 'hẩm', 'khả', 'sang', 'phisron', 'khắt', 'huyền', 'đam', 'kiểm', 'đặngphước', 'tron', 'mỷ', 'vanh', 'hon', 'đoan', 'neàng', 'lã', 'côn', 'bạch', 'trầnthụy', 'thảng', 'vẹn', 'thoài', 'thích', 'sreyneang', 'tùng', 'phạmtrần', 'summat', 'nhớ', 'xinh', 'sóc', 'chiếu', 'lai', 'piu', 'dưng', 'cóng', 'nhiền', 'bùithụy', 'nha', 'điểm', 'ma', 'đẹp', 'đình', 'đất', 'tĩnh', 'lẻo', 'phẩm', 'hỷ', 'thu', 'reaksa', 'phạmvăn', 'diễn', 'thượng', 'á', 'khan', 'len', 'tita', 'pháp', 'tain', 'phạmhuy', 'băn', 'nhiễn', 'phán', 'ấn', 'nhan', 'torn', 'huỳnhhữu', 'sara', 'buì', 'châu', 'nguyển', 'đội', 'thạnh', 'mỵ', 'quận', 'thạch', 'bế', 'quảng', 'rô', 'lộc', 'trãi', 'pu', 'thi', 'hồminh', 'thy', 'tính', 'đài', 'tòng', 'bàng', 'dận', 'kiếm', 'adrơng', 'nhuần', 'hổ', 'duơng', 'lánh', 'sông', 'lang', 'kin', 'tỉnh', 'tránh', 'lắm', 'nhi', 'tại', 'đồn', 'vo', 'huyết', 'khối', 'đính', 'quà', 'đẳng', 'tòa', 'nắp', 'trầm', 'nay', 'long', 'dự', 'liệu', 'quý', 'kôp', 'dạ', 'có', 'thiên', 'ghi', 'phi', 'ước', 'điện', 'kiềutấn', 'gin', 'rôtô', 'trăm', 'sy', 'lăng', 'nhẹ', 'uẩn', 'aliô', 'điều', 'xoan', 'bồ', 'ríth', 'phát', 'liễu', 'đang', 'truyện', 'phúc', 'ples', 'dưỡng', 'điểu', 'quan', 'gem', 'pốt', 'nhữ', 'giả', 'phaconekha', 'thường', 'ý', 'quyên', 'tảo', 'ngát', 'thải', 'đêm', 'phạm', 'quang', 'châuphước', 'ngọcanh', 'huỳnhphương', 'khê', 'chum', 'pang', 'sương', 'ahmad', 'hóa', 'hân', 'thia', 'thuyên', 'maitrọng', 'dung', 'nhiên', 'ch', 'kơ', 'niên', 'khang', 'đổ', 'tra', 'lìu', 'hớn', 'phol', 'thêm', 'uy', 'văn', 'lu', 'ký', 'phóng', 'thạo', 'nhị', 'lơm', 'hợp', 'chang', 'kỳ', 'khuyến', 'phu', 'xaynhalat', 'đan', 'quyến', 'nuing', 'oánh', 'cil', 'kiềutuấn', 'việt', 'nhương', 'đơm', 'nhuận', 'cảm', 'cử', 'ai', 'sihavong', 'uông', 'hoàng', 'nhiêm', 'đô', 'giảng', 'chim', 'bích', 'doãn', 'bé', 'cường', 'miễu', 'phươ', 'phanphước', 'tou', 'sửu', 'lập', 'huớng', 'tím', 'sách', 'đường', 'thời', 'xa', 'lũy', 'vỷ', 'ngủ', 'nhâ', 'oanh', 'trịnh', 'sầm', 'khánh', 'sầu', 'bệ', 'thảothùy', 'anh', 'hồthị', 'hoa', 'tho', 'bắc', 'giao', 'lẹ', 'đặngvăn', 'phắn', 'lên', 'quí', 'lú', 'định', 'nhân', 'nương', 'bành', 'tàu', 'thấn', 'siu', 'dượt', 'bon', 'chí', 'biết', 'chúc', 'bảng', 'quá', 'neáng', 'ngộ', 'chọn', 'lịch', 'hùng', 'luân', 'pich', 'ừng', 'nghiệm', 'bản', 'nglễ', 'nu', 'mông', 'tiển', 'nghiêm', 'lĩnh', 'tin', 'duyên', 'bông', 'xuyến', 'sùng', 'muội', 'hinh', 'trà', 'mai', 'công', 'hou', 'viê', 'phạmyến', 'sĩ', 'nô', 'phạmnhư', 'phạmthúy', 'quel', 'trước', 'zơ', 'quanh', 'thiếu', 'phục', 'vũ', 'băng', 'huyê', 'phạmvũ', 'hi', 'ya', 'thepilanh', 'quách', 'chấn', 'lù', 'tới', 'khôi', 'thuật', 'luyên', 'tung', 'tướng', 'vn', 'diệp', 'n', 'ngũ', 'chiêu', 'tưa', 'cái', 'cẩm', 'phố', 'duyến', 'vỹ', 'thân', 'hình', 'tuyết', 'bẩu', 'li', 'hưởng', 'huấn', 'đàm', 'hồquốc', 'thái', 'hrin', 'thuỳ', 'win', 'xuyên', 'luyển', 'tuyê', 'nhịn', 'hờ', 'nròng', 'màng', 'traà', 'mật', 'phạmbùi', 'đoạt', 'dĩnh', 'lỡ', 'cán', 'sao', 'thưởng', 'khoa', 'phạmđăng', 'nghị', 'liák', 'chiều', 'lỷ', 'kdăm', 'viền', 'phiếu', 'huỳnhđa', 'huê', 'triển', 'ath', 'đàng', 'mãnh', 'khiên', 'nhơn', 'chau', 'lảnh', 'thiền', 'lương', 'luy', 'thanh', 'ayưn', 'dương', 'tiều', 'ngọ', 'trúng', 'lý', 'nhã', 'trông', 'võ', 'dàng', 'nhả', 'năm', 'rách', 'phạmthế', 'huỳnhhoàng', 'tạn', 'tiền', 'duyệt', 'thắng', 'trai', 'huỳnhhải', 'thăng', 'dửng', 'hiển', 'ng', 'nhĩ', 'lượm', 'ảnh', 'lệ', 'ích', 'đỗ', 'thepphacha', 'kía', 'quay', 'vi', 'hạo', 'cheaboy', 'lạc', 'phan', 'hàm', 'xoàn', 'huế', 'ngân', 'nìm', 'kính', 'chuyên', 'mão', 'hậu', 'huẩn', 'bubakar', 'huỳnhanh', 'phượng', 'tuân', 'nhiệne', 'zu', 'cầu', 'hải', 'cần', 'mẫn', 'phẫm', 'mong', 'min', 'trong', 'aysá', 'nghề', 'tro', 'kỷ', 'vương', 'quýt', 'lưu', 'tánh', 'toán', 'thang', 'mến', 'vòng', 't', 'qúy', 'tiếp', 'lạithị', 'ðặng', 'bừng', 'pi', 'luật', 'vươn', 'lùng', 'hãnh', 'hà', 'lực', 'ste', 'hường', 'uon', 'khiếu', 'lêtrọng', 'pinăng', 'ông', 'còn', 'rồng', 'thẩn', 'bá', 'jáp', 'vỵ', 'đặngthu', 'sievlin', 'hăng', 'sô', 'hoài', 'son', 'nguyễn', 'vĩ', 'gim', 'bách', 'châm', 'trưởng', 'kỹ', 'thản', 'hiên', 'nhực', 'tình', 'ha', 'khỡi', 'pẩu', 'ksor', 'chưởng', 'tiết', 'nghĩa', 'sum', 'di', 'hạ', 'sour', 'nhàng', 'thế', 'lỉnh', 'quốc', 'cực', 'ấm', 'naronk', 'sàn', 'pha', 'ngon', 'houbri', 'vàng', 'nại', 'chính', 'được', 'đời', 'vệ', 'nhật', 'đơk', 'thới', 'đặngthăng', 'hoan', 'so', 'tạo', 'múi', 'lan', 'phước', 'ayŭn', 'hồnglong', 'dũy', 'hương', 'huỳnhtú', 'sóng', 'kim', 'mảnh', 'nhiệm', 'kinh', 'một', 'trán', 'ngoan', 'cáp', 'bội', 'mah', 'câu', 'tiệm', 'ting', 'sữa', 'chi', 'hoà', 'sỳ', 'bạc', 'cơ', 'niu', 'vượng', 'giai', 'chửng', 'phạmthảo', 'mưu', 'chhai', 'thiện', 'tỷ', 'dunhy', 'tá', 'thũ', 'bào', 'tám', 'chạy', 'thoại', 'lân', 'dược', 'za', 'phanhải', 'triệulan', 'ven', 'tự', 'trọn', 'hỏa', 'mơ', 'thừa', 'vắn', 'nhịnh', 'nhì', 'hết', 'bang', 'an', 'đào', 'thòng', 'gưỡi', 'dịp', 'ní'}\n"
          ]
        }
      ]
    },
    {
      "cell_type": "code",
      "source": [
        "more_min_count = set(model.wv.index_to_key)\n",
        "print(more_min_count)"
      ],
      "metadata": {
        "colab": {
          "base_uri": "https://localhost:8080/"
        },
        "id": "sNYEwW_G00sY",
        "outputId": "a1c148c4-9aff-49fd-8008-3882fcfb9d3a"
      },
      "execution_count": 10,
      "outputs": [
        {
          "output_type": "stream",
          "name": "stdout",
          "text": [
            "{'ênuôl', 'rơ', 'phụng', 'đơn', 'nho', 'lễ', 'giáp', 'bổn', 'viển', 'bìn', 'ngọc', 'kông', 'quản', 'nông', 'mấu', 'hảithiên', 'diểm', 'hành', 'din', 'sâm', 'phạmminh', 'thương', 'đảm', 'phạmnguyễn', 'giầu', 'nhài', 'kỵ', 'cung', 'tầng', 'mận', 'nhỏ', 'đề', 'lam', 'phòng', 'thuyết', 'sanh', 'thoa', 'thuận', 'kiệt', 'the', 'khuê', 'hă', 'đi', 'đạt', 'dủ', 'voòng', 'thụ', 'nơ', 'khế', 'heng', 'phôm', 'trải', 'tam', 'liêm', 'đ', 'dàn', 'chinh', 'năng', 'xứng', 'hư', 'họp', 'ngô', 'tuyển', 'tuệ', 'ba', 'ngự', 'cẫm', 'da', 'kì', 'dây', 'xí', 'hài', 'biển', 'brích', 'hão', 'danh', 'rin', 'tư', 'phụ', 'tụ', 'hín', 'thiêu', 'trúc', 'phạmđức', 'huỳnh', 'đă', 'âu', 'đoa', 'bính', 'chất', 'makara', 'xương', 'viễn', 'ô', 'nhẩn', 'nhu', 'mừng', 'cổ', 'uyển', 'dư', 'tuyến', 'phỉnh', 'thụy', 'ny', 'niê', 'hô', 'my', 'thận', 'phạmxích', 'tổng', 'hồnguyễn', 'hằng', 'thẩm', 'trầnthị', 'hòa', 'mạc', 'gùin', 'ngôn', 'naria', 'trọng', 'giản', 'đồng', 'phạmnhật', 'khổng', 'lư', 'giới', 'khái', 'thiều', 'vọng', 'cưng', 'mây', 'trác', 'dân', 'ưng', 'tây', 'trằm', 'trươngthị', 'panh', 'bữu', 'huỳnhhồái', 'mô', 'ril', 'nouraldin', 'thúc', 'mâ', 'thuấn', 'aty', 'sữu', 'triều', 'ngọctuyết', 'rcom', 'ph', 'chanh', 'bim', 'vưu', 'phông', 'mau', 'doan', 'uynh', 'váy', 'thỏa', 'nghiên', 'dá', 'nguyền', 'hồng', 'ron', 'binh', 'siêu', 'liễm', 'bơ', 'chơn', 'nhất', 'cún', 'toukmany', 'thêu', 'quyết', 'sẻ', 'trần', 'tứ', 'thê', 'kháng', 'tuy', 'thổ', 'nựp', 'hoạt', 'lào', 'kiềuhồng', 'ngụy', 'triết', 'ksơr', 'chức', 'lồng', 'chế', 'phiên', 'đẵng', 'lài', 'về', 'xira', 'thoan', 'lơ', 'oai', 'ong', 'lem', 'dỉ', 'phù', 'tày', 'mỹ', 'khảo', 'mĩ', 'đặnghoàng', 'tươi', 'diện', 'vạn', 'tường', 'lầu', 'đế', 'vẩy', 'ngo', 'cà', 'huỳnhvăn', 'khai', 'thuần', 'đoàn', 'nhí', 'tu', 'liên', 'ca', 'ben', 'đinh', 'kiềulê', 'trầnphước', 'hiệp', 'chiểu', 'dầu', 'san', 'bãng', 'thuỵ', 'khưu', 'mi', 'kiều', 'cúc', 'thánh', 'trưa', 'mu', 'luận', 'h', 'nhàn', 'phó', 'lãng', 'chương', 'phoen', 'dễ', 'tấn', 'kế', 'sec', 'tuất', 'nghịch', 'hiê', 'đèo', 'krong', 'đại', 'mộc', 'thành', 'nhận', 'tiê', 'miêu', 'búp', 'sống', 'sim', 'riêm', 'bàn', 'ức', 'ty', 'qalal', 'quynh', 'nhẫn', 'ninh', 'khởi', 'du', 'thiệt', 'thă', 'phoummipho', 'hạnh', 'dũng', 'đồ', 'tr', 'khuất', 'la', 'hầu', 'ngọcbảo', 'kbuôr', 'thám', 'ta', 'sắc', 'sơn', 'nguyện', 'mụi', 'chiêm', 'như', 'lừ', 'đư', 'phạmthanh', 'luyến', 'hái', 'trâm', 'quế', 'thuỷ', 'qua', 'túy', 'lily', 'thiêng', 'kiểng', 'huỳnhkỳ', 'cư', 'til', 'huỳnhthị', 'nì', 'điễm', 'sin', 'lượng', 'chân', 'hợi', 'hộp', 'hoàn', 'k', 'trầntrọng', 'dang', 'khắc', 'điền', 'hồnguyên', 'nơi', 'sử', 'chị', 'kiềuphi', 'huy', 'phương', 'khiêm', 'konsơ', 'quàng', 'bao', 'giàng', 'lê', 'bửu', 'dĩ', 'yum', 'chiến', 'doanh', 'tài', 'nên', 'lin', 'dục', 'sự', 'diển', 'thông', 'tâm', 'nga', 'tìa', 'miên', 'nh', 'lảm', 'hmor', 'chỉnh', 'phạmkim', 'ngâu', 'huang', 'rịch', 'tý', 'nasi', 'mang', 'hàng', 'tào', 'cắm', 'keokhounmeuang', 'hiến', 'phải', 'duẩn', 'bên', 'vui', 'chắn', 'vai', 'huân', 'phàn', 'thúy', 'tiêu', 'hiện', 'nhụy', 'bồi', 'hồbảo', 'soan', 'ká', 'lâm', 'sẹc', 'phạmtrung', 'khen', 'uyên', 'lữ', 'tiến', 'be', 'nil', 'khuyên', 'hanh', 'ry', 'hiệu', 'thà', 'hai', 'ra', 'ngữ', 'tiếu', 'bun', 'thực', 'rim', 'nghiệp', 'bi', 'phin', 'loan', 'giô', 'chely', 'cầm', 'nhin', 'vy', 'nhường', 'ral', 'lụa', 'phùng', 'kong', 'thom', 'sỷ', 'tuyên', 'hồngọc', 'lắc', 'trị', 'luôn', 'thuy', 'luyện', 'hẩm', 'sang', 'phisron', 'khắt', 'tron', 'kiểm', 'đặngphước', 'hon', 'vanh', 'đoan', 'neàng', 'bạch', 'trầnthụy', 'thoài', 'thích', 'tùng', 'phạmtrần', 'summat', 'chiếu', 'xinh', 'piu', 'nhiền', 'nha', 'ma', 'điểm', 'tĩnh', 'lẻo', 'phẩm', 'hỷ', 'thu', 'reaksa', 'phạmhuy', 'băn', 'nhiễn', 'phán', 'nhan', 'torn', 'buì', 'châu', 'nguyển', 'thạch', 'quảng', 'trãi', 'pu', 'thi', 'thy', 'tính', 'tòng', 'dận', 'adrơng', 'hổ', 'duơng', 'lánh', 'sông', 'tại', 'vo', 'huyết', 'khối', 'đính', 'tòa', 'quà', 'nắp', 'trầm', 'long', 'kôp', 'liệu', 'quý', 'ghi', 'rôtô', 'kiềutấn', 'điện', 'lăng', 'uẩn', 'xoan', 'bồ', 'phát', 'đang', 'phúc', 'quan', 'giả', 'phaconekha', 'thường', 'quyên', 'tảo', 'thải', 'đêm', 'quang', 'khê', 'sương', 'hân', 'nhiên', 'niên', 'khang', 'đổ', 'hớn', 'phol', 'thêm', 'uy', 'lơm', 'nhị', 'chang', 'kỳ', 'khuyến', 'phu', 'xaynhalat', 'cil', 'nhương', 'việt', 'sihavong', 'uông', 'nhiêm', 'đô', 'giảng', 'chim', 'bích', 'bé', 'cường', 'tou', 'phươ', 'sửu', 'lập', 'huớng', 'sách', 'đường', 'vỷ', 'ngủ', 'nhâ', 'oanh', 'trịnh', 'sầm', 'sầu', 'bệ', 'anh', 'hồthị', 'hoa', 'tho', 'đặngvăn', 'lên', 'quí', 'lú', 'định', 'thấn', 'siu', 'dượt', 'chí', 'bảng', 'ngộ', 'chọn', 'hùng', 'bản', 'nglễ', 'nu', 'tiển', 'tin', 'duyên', 'bông', 'xuyến', 'muội', 'trà', 'mai', 'viê', 'phạmyến', 'sĩ', 'nô', 'phạmnhư', 'trước', 'quanh', 'thiếu', 'phục', 'vũ', 'phạmvũ', 'huyê', 'hi', 'thepilanh', 'lù', 'luyên', 'vn', 'tung', 'diệp', 'n', 'tưa', 'cẩm', 'vỹ', 'hình', 'tuyết', 'đàm', 'thái', 'hrin', 'nròng', 'màng', 'traà', 'phạmbùi', 'dĩnh', 'cán', 'phạmđăng', 'nghị', 'chiều', 'kdăm', 'viền', 'huỳnhđa', 'huê', 'ath', 'mãnh', 'khiên', 'lương', 'luy', 'thanh', 'ayưn', 'trúng', 'lý', 'nhã', 'trông', 'dàng', 'nhả', 'năm', 'phạmthế', 'huỳnhhoàng', 'tiền', 'thắng', 'thăng', 'lượm', 'ảnh', 'thepphacha', 'hạo', 'phan', 'hàm', 'ngân', 'kính', 'phượng', 'tuân', 'nhiệne', 'zu', 'hải', 'phẫm', 'mong', 'trong', 'aysá', 'tro', 'vương', 'tánh', 'toán', 'thang', 'qúy', 'tiếp', 'bừng', 'lùng', 'hãnh', 'hà', 'hường', 'ste', 'lêtrọng', 'pinăng', 'ông', 'rồng', 'bá', 'jáp', 'sievlin', 'hoài', 'son', 'vĩ', 'gim', 'trưởng', 'thản', 'tình', 'ha', 'sum', 'sour', 'thế', 'naronk', 'vàng', 'nại', 'được', 'đời', 'vệ', 'nhật', 'thới', 'đặngthăng', 'tạo', 'múi', 'ayŭn', 'dũy', 'hương', 'sóng', 'kim', 'kinh', 'một', 'câu', 'tiệm', 'ting', 'chi', 'bạc', 'vượng', 'giai', 'chửng', 'phạmthảo', 'chhai', 'thiện', 'tá', 'bào', 'chạy', 'za', 'phanhải', 'triệulan', 'tự', 'trọn', 'mơ', 'hết', 'an', 'bảo', 'nội', 'thòng', 'dịp', 'ní', 'dzoãn', 'pa', 'thôi', 'huyến', 'mậu', 'xiêng', 'viếttiến', 'viên', 'úc', 'đăng', 'trực', 'kunh', 'hwing', 'vân', 'ngọccát', 'tỵ', 'tần', 'tố', 'đặngkim', 'giáng', 'loang', 'in', 'tri', 'quỳnh', 'điêu', 'thứ', 'gần', 'nử', 'tín', 'hữu', 'thảo', 'linh', 'diu', 'nhỉ', 'cát', 'trân', 'ngọcthi', 'thoản', 'quô', 'hưng', 'não', 'borlommavo', 'vang', 'ngàn', 'huỳnhvũ', 'cam', 'triệuthanh', 'thiệu', 'chiếm', 'ướt', 'tuấn', 'yến', 'núi', 'sỉ', 'cước', 'hay', 'yên', 'mùi', 'thùy', 'tồn', 'nguyên', 'khá', 'lày', 'hông', 'tranh', 'ka', 'thù', 'hữuquỳnh', 'thất', 'hàn', 'toản', 'tỉ', 'phạmquốc', 'yêm', 'loát', 'cảnh', 'hùynh', 'triệu', 'chu', 'trin', 'mó', 'mạch', 'bỉnh', 'chề', 'line', 'đỉnh', 'thập', 'sáng', 'hắc', 'lâu', 'thã', 'mã', 'huỳnhchí', 'cù', 'sản', 'vu', 'huỳnhphước', 'êban', 'rmah', 'thật', 'kha', 'y', 'ái', 'hạng', 'thuynh', 'quân', 'song', 'em', 'phong', 'minh', 'vớt', 'đầu', 'bốn', 'lôi', 'truyên', 'đến', 'chánh', 'niềm', 'hứa', 'khương', 'hiểu', 'dal', 'nữ', 'von', 'lô', 'cây', 'tiểu', 'hmun', 'ánh', 'tuyễn', 'nguyê', 'phấn', 'diệu', 'mộng', 'a', 'joan', 'ngưu', 'mạnh', 'tuyền', 'khải', 'krim', 'trỹu', 'sa', 'báo', 'độ', 'gấm', 'thịnh', 'đổng', 'từ', 'nhung', 'vỏ', 'sớm', 'đậu', 'knul', 'nút', 'hồ', 'đa', 'bằng', 'qui', 'hồphạmdĩ', 'kiềuthị', 'thao', 'nết', 'hửu', 'tử', 'trứ', 'ÿàng', 'học', 'lơng', 'sơ', 'tounẻh', 'bùi', 'tưởng', 'rit', 'huỳnhái', 'chềnh', 'tạ', 'gioách', 'ly', 'tốt', 'trụ', 'viết', 'diễm', 'dịu', 'mãi', 'của', 'vày', 'gruyêng', 'phạmkhắc', 'dy', 'thụythanh', 'đạo', 'lộ', 'saly', 'lục', 'grưm', 'phên', 'khanh', 'nhuy', 'trát', 'điệu', 'dụng', 'chuyền', 'bă', 'huỳnhtrần', 'nghi', 'hiền', 'viếtquang', 'cửu', 'lưỡng', 'túc', 'huỳnhthanh', 'nin', 'sreydeth', 'nhộc', 'các', 'tiện', 'ñĭng', 'trấn', 'thiết', 'bất', 'nhạn', 'ngôi', 'nguyệt', 'menghor', 'giàu', 'phạmtrọng', 'luys', 'dần', 'thuyền', 'đích', 'trang', 'janơ', 'ngư', 'phí', 'srây', 'lạiminh', 'sẩm', 'vủ', 'rạng', 'tạng', 'toãn', 'diên', 'mlô', 'khôn', 'mund', 'vĩnh', 'qúi', 'quyền', 'chheang', 'vanhthavy', 'huynh', 'sinh', 'đàn', 'pơ', 'trâ', 'thỉnh', 'lum', 'lể', 'ngà', 'liêu', 'thưng', 'pliêu', 'tằng', 'chung', 'nhựt', 'tống', 'thủ', 'đồngthị', 'vin', 'ngạn', 'sari', 'ni', 'ẩn', 'thảotuyết', 'phú', 'xuân', 'giác', 'vôn', 'phạmlinh', 'chăm', 'đao', 'huyện', 'pă', 'hồvăn', 'láng', 'giang', 'sú', 'thọ', 'thể', 'nàng', 'hán', 'khâm', 'thìn', 'phạmthiên', 'dinh', 'trí', 'huỳnhnhư', 'dâng', 'thiê', 'đắc', 'thủy', 'lãm', 'tuyêt', 'tân', 'trình', 'hận', 'đệ', 'hồxuân', 'sam', 'liểu', 'thục', 'lanh', 'lành', 'zi', 'lò', 'ngoc', 'đức', 'diệm', 'tịnh', 'tiềm', 'thược', 'viện', 'mẩn', 'tú', 'trảo', 'sư', 'nai', 'huệ', 'vận', 'trường', 'hồnhư', 'séo', 'lại', 'thiệnđào', 'tô', 'lêphước', 'quả', 'vũmỹ', 'tập', 'kiên', 'quy', 'bê', 'i', 'lợi', 'nhiu', 'cao', 'duy', 'ngọt', 'thùys', 'chủ', 'tông', 'ung', 'quát', 'mào', 'ngoại', 'kiễu', 'vinh', 'phô', 'gia', 'quấn', 'tăng', 'u', 'hoanh', 'ktla', 'trượng', 'nhịt', 'ổn', 'sua', 'đặng', 'cang', 'bão', 'quất', 'nhạ', 'nhanh', 'đủ', 'on', 'trạng', 'hoành', 'toại', 'ư', 'thoat', 'aỹun', 'bút', 'c', 'thuý', 'huyên', 'ban', 'trùng', 'đấu', 'toàn', 'khiết', 'chướng', 'kiến', 'truyền', 'visal', 'hảo', 'biện', 'hồcẩm', 'khoái', 'vịnh', 'mì', 'đặngtrần', 'bảocát', 'phạmtiến', 'túch', 'ê', 'thiếp', 'cặp', 'tặng', 'tem', 'trung', 'ngọctường', 'as', 'sỹ', 'siê', 'ao', 'tiên', 'thống', 'sen', 'ân', 'nhưng', 'nhâm', 'đôn', 'sung', 'chuẩn', 'na', 'ngụ', 'biêu', 'tôn', 'đông', 'bến', 'phường', 'nghỉa', 'thơm', 'vư', 'phẩn', 'nish', 'cẩn', 'hào', 'thức', 'út', 'nghé', 'chắt', 'kiện', 'biên', 'bình', 'thơ', 'hiếu', 'báu', 'phốc', 'phạmhuỳnh', 'đặngthảo', 'nhiều', 'th', 'tha', 'si', 'đương', 'dass', 'gi', 'trinh', 'hra', 'vay', 'thư', 'thắm', 'thuân', 'tuế', 'xi', 'anousone', 'kpă', 'ngào', 'dũ', 'tiệp', 'nam', 'trương', 'hy', 'điệp', 'hội', 'o', 'thị', 'huỳnhmai', 'thét', 'vỉnh', 'văng', 'đà', 'phê', 'tất', 'hướng', 'ôn', 'cương', 'puih', 'khách', 'huỳnhnhật', 'lường', 'tinh', 'khả', 'đam', 'huyền', 'mỷ', 'lã', 'côn', 'thảng', 'vẹn', 'sreyneang', 'nhớ', 'sóc', 'lai', 'dưng', 'cóng', 'bùithụy', 'đẹp', 'đất', 'đình', 'phạmvăn', 'diễn', 'thượng', 'á', 'khan', 'len', 'tita', 'pháp', 'tain', 'ấn', 'huỳnhhữu', 'sara', 'đội', 'thạnh', 'mỵ', 'quận', 'bế', 'rô', 'lộc', 'hồminh', 'đài', 'bàng', 'kiếm', 'nhuần', 'lang', 'kin', 'tỉnh', 'tránh', 'lắm', 'nhi', 'đồn', 'đẳng', 'nay', 'dự', 'có', 'dạ', 'thiên', 'phi', 'ước', 'gin', 'trăm', 'sy', 'nhẹ', 'aliô', 'điều', 'ríth', 'liễu', 'truyện', 'ples', 'dưỡng', 'điểu', 'gem', 'nhữ', 'pốt', 'ý', 'ngát', 'phạm', 'châuphước', 'ngọcanh', 'huỳnhphương', 'chum', 'pang', 'ahmad', 'hóa', 'maitrọng', 'thuyên', 'thia', 'ch', 'dung', 'kơ', 'tra', 'lìu', 'văn', 'lu', 'ký', 'phóng', 'thạo', 'hợp', 'đan', 'quyến', 'nuing', 'oánh', 'kiềutuấn', 'đơm', 'nhuận', 'cảm', 'cử', 'ai', 'hoàng', 'doãn', 'miễu', 'phanphước', 'tím', 'thời', 'xa', 'lũy', 'khánh', 'thảothùy', 'bắc', 'giao', 'lẹ', 'phắn', 'nhân', 'nương', 'bành', 'tàu', 'bon', 'biết', 'chúc', 'quá', 'neáng', 'lịch', 'luân', 'nghiệm', 'ừng', 'pich', 'mông', 'nghiêm', 'lĩnh', 'sùng', 'hinh', 'công', 'hou', 'phạmthúy', 'quel', 'zơ', 'băng', 'ya', 'quách', 'chấn', 'tới', 'khôi', 'thuật', 'tướng', 'ngũ', 'chiêu', 'cái', 'phố', 'duyến', 'thân', 'bẩu', 'li', 'hưởng', 'huấn', 'hồquốc', 'thuỳ', 'win', 'xuyên', 'luyển', 'tuyê', 'nhịn', 'hờ', 'mật', 'đoạt', 'lỡ', 'sao', 'thưởng', 'khoa', 'liák', 'lỷ', 'phiếu', 'triển', 'đàng', 'nhơn', 'chau', 'lảnh', 'thiền', 'dương', 'tiều', 'ngọ', 'võ', 'rách', 'tạn', 'duyệt', 'trai', 'huỳnhhải', 'dửng', 'hiển', 'ng', 'nhĩ', 'lệ', 'ích', 'đỗ', 'quay', 'kía', 'vi', 'cheaboy', 'lạc', 'xoàn', 'huế', 'nìm', 'bubakar', 'chuyên', 'mão', 'hậu', 'huỳnhanh', 'huẩn', 'cầu', 'cần', 'mẫn', 'min', 'nghề', 'kỷ', 'quýt', 'lưu', 'mến', 'vòng', 't', 'lạithị', 'ðặng', 'pi', 'luật', 'vươn', 'lực', 'uon', 'khiếu', 'còn', 'thẩn', 'vỵ', 'đặngthu', 'hăng', 'sô', 'nguyễn', 'bách', 'châm', 'kỹ', 'hiên', 'nhực', 'khỡi', 'pẩu', 'ksor', 'chưởng', 'tiết', 'nghĩa', 'di', 'hạ', 'nhàng', 'lỉnh', 'quốc', 'cực', 'ấm', 'ngon', 'pha', 'sàn', 'houbri', 'chính', 'đơk', 'hoan', 'so', 'lan', 'phước', 'hồnglong', 'huỳnhtú', 'nhiệm', 'mảnh', 'trán', 'ngoan', 'cáp', 'bội', 'mah', 'sữa', 'hoà', 'sỳ', 'cơ', 'niu', 'mưu', 'tỷ', 'dunhy', 'thũ', 'tám', 'thoại', 'lân', 'dược', 'ven', 'hỏa', 'thừa', 'vắn', 'nhịnh', 'nhì', 'bang', 'đào', 'soa', 'gưỡi'}\n"
          ]
        }
      ]
    },
    {
      "cell_type": "markdown",
      "source": [
        "Compute list of removed words if less than min_count"
      ],
      "metadata": {
        "id": "ey-8XQhywUk2"
      }
    },
    {
      "cell_type": "code",
      "execution_count": 11,
      "metadata": {
        "colab": {
          "base_uri": "https://localhost:8080/"
        },
        "id": "aYZb7JXrvnQ8",
        "outputId": "d8b4a774-e799-4f9a-a469-2b257eb795d7"
      },
      "outputs": [
        {
          "output_type": "stream",
          "name": "stdout",
          "text": [
            "0\n"
          ]
        }
      ],
      "source": [
        "removed_lst = list(full_words - more_min_count)\n",
        "print(len(removed_lst))"
      ]
    },
    {
      "cell_type": "markdown",
      "metadata": {
        "id": "cPzHjjVyn69z"
      },
      "source": [
        "Convert all sentences in data to vector (not just a word)"
      ]
    },
    {
      "cell_type": "code",
      "execution_count": 25,
      "metadata": {
        "colab": {
          "base_uri": "https://localhost:8080/"
        },
        "id": "iPMSuzslYAgM",
        "outputId": "2243c6fa-6113-49a9-fc07-624165c39c76"
      },
      "outputs": [
        {
          "output_type": "stream",
          "name": "stdout",
          "text": [
            "[-0.09544628  0.1843257   0.02188344  0.05360827  0.03621853 -0.28904447\n",
            "  0.13907048  0.38771123 -0.25164866 -0.135016   -0.07461687 -0.26982883\n",
            " -0.08449197  0.16349484  0.01174451 -0.06904767  0.01688822 -0.11530799\n",
            " -0.1001468  -0.45333084  0.08247795  0.09438857  0.16933912 -0.04624027\n",
            " -0.04095035  0.06785524 -0.07353462 -0.14739975 -0.18329991  0.02105677\n",
            "  0.27863103 -0.00082265  0.16335805 -0.2222115  -0.10077202  0.23718655\n",
            "  0.09024945 -0.00786906 -0.04234077 -0.24844164  0.06773757 -0.13860536\n",
            " -0.1559158   0.04722185  0.1306189  -0.00078368 -0.03870972 -0.03995961\n",
            "  0.16881984  0.09504255  0.0895595  -0.121962    0.0385521  -0.04474228\n",
            " -0.03456595  0.11274242  0.00912997 -0.01715372 -0.18441677  0.02014063\n",
            " -0.02834005 -0.00796746  0.05741313 -0.03192895 -0.1746388   0.18497734\n",
            "  0.14104758  0.23592198 -0.21770786  0.26454815 -0.02753332  0.10267878\n",
            "  0.1822294   0.04532387  0.20653576  0.11117233  0.04654124 -0.0151799\n",
            " -0.14025116  0.02576752 -0.09000861 -0.00565014 -0.19144359  0.19400953\n",
            " -0.13862221 -0.06865936  0.19350587  0.15341553  0.1743749   0.0732747\n",
            "  0.17435767  0.18190527  0.09948464  0.02823139  0.33304012  0.20078303\n",
            "  0.15567254 -0.13170029  0.0652985  -0.0954714 ]\n"
          ]
        }
      ],
      "source": [
        "sentence_vectors = []\n",
        "removed_sentences =[]\n",
        "for sentence in full_split_data:\n",
        "  for word in sentence:\n",
        "    n=0\n",
        "    S=[]\n",
        "    if word not in removed_lst:\n",
        "      S.append(model.wv[word])\n",
        "      n+=1\n",
        "  if n > 0:  \n",
        "    sentence_vectors.append(sum(S)/len(S)) # Average word vectors in the sentence\n",
        "  else:\n",
        "    removed_sentences.append(sentence)\n",
        "print(sentence_vectors[0])"
      ]
    },
    {
      "cell_type": "code",
      "source": [
        "sentence_vectors = []\n",
        "for sentence in full_split_data:\n",
        "    vector = sum(model.wv[word] for word in sentence) / len(sentence)  # Average word vectors in the sentence\n",
        "    sentence_vectors.append(vector)\n",
        "print(sentence_vectors[0])"
      ],
      "metadata": {
        "colab": {
          "base_uri": "https://localhost:8080/"
        },
        "id": "6pDHsxgEXWRh",
        "outputId": "1afedbe7-fe0b-422c-b0e5-e2e2f3a545a0"
      },
      "execution_count": 27,
      "outputs": [
        {
          "output_type": "stream",
          "name": "stdout",
          "text": [
            "[-9.90805998e-02  1.93384454e-01  4.38160896e-02  4.80902679e-02\n",
            "  5.87533303e-02 -3.07887763e-01  1.51634574e-01  4.42174584e-01\n",
            " -2.45197341e-01 -1.61353186e-01 -5.83885908e-02 -2.93238044e-01\n",
            " -9.37633142e-02  2.01104924e-01 -4.36622556e-03 -8.43808353e-02\n",
            "  6.20887615e-02 -1.19678825e-01 -1.03751093e-01 -4.63956207e-01\n",
            "  8.93064067e-02  9.15531144e-02  1.69314280e-01 -6.78213090e-02\n",
            " -1.41732870e-02  6.93553612e-02 -7.23608583e-02 -1.21657409e-01\n",
            " -1.89016476e-01  4.95094545e-02  3.11161131e-01 -2.13197265e-02\n",
            "  1.82382300e-01 -2.36568987e-01 -8.56785998e-02  2.32883632e-01\n",
            "  1.06556654e-01 -2.30491236e-02 -9.61674470e-03 -2.85805076e-01\n",
            "  5.21149226e-02 -1.32035702e-01 -1.69397593e-01  3.35017107e-02\n",
            "  1.52853057e-01 -1.91733185e-02 -5.60265630e-02 -3.98754776e-02\n",
            "  1.75526395e-01  9.96704623e-02  1.15014493e-01 -1.39724851e-01\n",
            "  4.76815784e-03 -3.74937057e-02 -3.07738911e-02  1.05464101e-01\n",
            "  4.41042632e-02 -4.89267008e-03 -1.84263274e-01  2.13861670e-02\n",
            " -2.77057979e-02  9.80751682e-03  8.23527947e-02 -2.85749957e-02\n",
            " -2.12276772e-01  2.34514296e-01  1.58947960e-01  2.23688886e-01\n",
            " -2.26977646e-01  2.92158037e-01 -3.39858904e-02  1.31316707e-01\n",
            "  1.96337953e-01  3.22025828e-02  2.11094722e-01  7.47212470e-02\n",
            "  5.92310019e-02 -4.36012261e-03 -1.51873901e-01  1.90828796e-02\n",
            " -1.09371819e-01  3.56373057e-04 -2.30692700e-01  2.28982642e-01\n",
            " -1.50057867e-01 -6.71718046e-02  1.96873024e-01  1.19828068e-01\n",
            "  1.95089743e-01  7.05401599e-02  1.90995529e-01  1.86529264e-01\n",
            "  1.15891062e-01  1.17057813e-02  3.62855405e-01  1.92394376e-01\n",
            "  1.65855125e-01 -1.31966934e-01  5.96952848e-02 -7.82634318e-02]\n"
          ]
        }
      ]
    },
    {
      "cell_type": "code",
      "source": [
        "print(len(full_split_data))\n",
        "print(len(sentence_vectors))\n",
        "print(len(removed_sentences))\n",
        "print(full_split_data[-1])"
      ],
      "metadata": {
        "colab": {
          "base_uri": "https://localhost:8080/",
          "height": 245
        },
        "id": "6b0M3PTMHwXu",
        "outputId": "8cabe8cd-4f7f-4356-d061-6c29950efe3d"
      },
      "execution_count": 14,
      "outputs": [
        {
          "output_type": "stream",
          "name": "stdout",
          "text": [
            "26851\n",
            "26851\n"
          ]
        },
        {
          "output_type": "error",
          "ename": "NameError",
          "evalue": "ignored",
          "traceback": [
            "\u001b[0;31m---------------------------------------------------------------------------\u001b[0m",
            "\u001b[0;31mNameError\u001b[0m                                 Traceback (most recent call last)",
            "\u001b[0;32m<ipython-input-14-5f2dabb5465f>\u001b[0m in \u001b[0;36m<cell line: 3>\u001b[0;34m()\u001b[0m\n\u001b[1;32m      1\u001b[0m \u001b[0mprint\u001b[0m\u001b[0;34m(\u001b[0m\u001b[0mlen\u001b[0m\u001b[0;34m(\u001b[0m\u001b[0mfull_split_data\u001b[0m\u001b[0;34m)\u001b[0m\u001b[0;34m)\u001b[0m\u001b[0;34m\u001b[0m\u001b[0;34m\u001b[0m\u001b[0m\n\u001b[1;32m      2\u001b[0m \u001b[0mprint\u001b[0m\u001b[0;34m(\u001b[0m\u001b[0mlen\u001b[0m\u001b[0;34m(\u001b[0m\u001b[0msentence_vectors\u001b[0m\u001b[0;34m)\u001b[0m\u001b[0;34m)\u001b[0m\u001b[0;34m\u001b[0m\u001b[0;34m\u001b[0m\u001b[0m\n\u001b[0;32m----> 3\u001b[0;31m \u001b[0mprint\u001b[0m\u001b[0;34m(\u001b[0m\u001b[0mlen\u001b[0m\u001b[0;34m(\u001b[0m\u001b[0mremoved_sentences\u001b[0m\u001b[0;34m)\u001b[0m\u001b[0;34m)\u001b[0m\u001b[0;34m\u001b[0m\u001b[0;34m\u001b[0m\u001b[0m\n\u001b[0m\u001b[1;32m      4\u001b[0m \u001b[0mprint\u001b[0m\u001b[0;34m(\u001b[0m\u001b[0mfull_split_data\u001b[0m\u001b[0;34m[\u001b[0m\u001b[0;34m-\u001b[0m\u001b[0;36m1\u001b[0m\u001b[0;34m]\u001b[0m\u001b[0;34m)\u001b[0m\u001b[0;34m\u001b[0m\u001b[0;34m\u001b[0m\u001b[0m\n",
            "\u001b[0;31mNameError\u001b[0m: name 'removed_sentences' is not defined"
          ]
        }
      ]
    },
    {
      "cell_type": "markdown",
      "metadata": {
        "id": "NbZzd55BoJzh"
      },
      "source": [
        "Function to return any word to vector based on given data"
      ]
    },
    {
      "cell_type": "code",
      "execution_count": null,
      "metadata": {
        "id": "CpenP_dqM44O"
      },
      "outputs": [],
      "source": [
        "full_split_data_copy=full_split_data[:]\n",
        "def word_2_vec(name_sentence,sentences=full_split_data_copy, vector_size = vector_size, min_count = min_count):\n",
        "  name_split =name_sentence.lower().split()\n",
        "  sentences.append(name_split)\n",
        "  md = Word2Vec(sentences=full_split_data, vector_size = vector_size, min_count=1, window = window, workers=4)\n",
        "  for word in sentence:\n",
        "    n=0\n",
        "    S=np.zeros((vector_size,))\n",
        "    if word not in removed_lst:\n",
        "      S+=md.wv[word]\n",
        "      n+=1\n",
        "  if n > 0:  \n",
        "    return S/n\n",
        "    "
      ]
    },
    {
      "cell_type": "code",
      "execution_count": null,
      "metadata": {
        "colab": {
          "base_uri": "https://localhost:8080/"
        },
        "id": "hH6uiXecszV1",
        "outputId": "d112850a-0fc8-42ff-86aa-c08e2fd21212"
      },
      "outputs": [
        {
          "output_type": "stream",
          "name": "stdout",
          "text": [
            "[-0.12930539  0.15429208  0.05111341  0.0249342   0.13266341 -0.24515992\n",
            "  0.15160477  0.44041416 -0.13384537 -0.13745439 -0.00380907 -0.24924774\n",
            " -0.07962719  0.19463716 -0.0351574  -0.053682    0.17866085 -0.10820269\n",
            " -0.08494085 -0.34867787  0.07512061  0.10280326  0.11435355 -0.06507432\n",
            "  0.07257349  0.22316881 -0.19829385 -0.1835862  -0.42566296  0.17428479\n",
            "  0.74859226 -0.06711396  0.13937633 -0.17364322 -0.05806851  0.2017995\n",
            "  0.11769851 -0.10571083  0.08159679 -0.25301513  0.02149674 -0.13367066\n",
            " -0.06989266 -0.0110453   0.07914056 -0.05674833 -0.12208703 -0.04169509\n",
            "  0.09240905  0.02114019  0.16024819 -0.13559489 -0.08882822  0.0034658\n",
            " -0.04587397  0.07663009  0.11910007  0.03777274 -0.10635056 -0.00362179\n",
            " -0.00293463  0.0353479   0.06844579 -0.02326928 -0.18838379  0.26071164\n",
            "  0.1578314   0.10103383 -0.11978851  0.23726402 -0.08313791  0.14342761\n",
            "  0.13779323  0.00459944  0.15606007  0.01138894  0.01643526  0.06673403\n",
            " -0.13700028  0.0017394  -0.10997566  0.06719447 -0.1931107   0.21643952\n",
            " -0.13020526  0.02585538  0.14006935  0.01058355  0.17288558 -0.03630421\n",
            "  0.20697547  0.17540088  0.08913617 -0.05322061  0.2937299   0.10042102\n",
            "  0.12721364 -0.12058955  0.04475042 -0.03147672]\n"
          ]
        }
      ],
      "source": [
        "print(word_2_vec(\"nguyễn bá thiêm\"))"
      ]
    },
    {
      "cell_type": "markdown",
      "metadata": {
        "id": "l-wTj-JRodpL"
      },
      "source": [
        "# Train model to predict gender using SVM"
      ]
    },
    {
      "cell_type": "code",
      "execution_count": 18,
      "metadata": {
        "id": "JkM6mwoOfE9R",
        "colab": {
          "base_uri": "https://localhost:8080/"
        },
        "outputId": "0efe3226-05bb-4fc8-89dd-fa1ef29c2b6b"
      },
      "outputs": [
        {
          "output_type": "stream",
          "name": "stdout",
          "text": [
            "26851\n"
          ]
        }
      ],
      "source": [
        "from sklearn.model_selection import train_test_split\n",
        "from sklearn.svm import SVC\n",
        "X=sentence_vectors\n",
        "y=[]\n",
        "for u,v in zip(df[\"Full_Name\"],df[\"Gender\"]):\n",
        "  if u.lower().split() not in removed_sentences:\n",
        "    y.append(v)\n",
        "print(len(y))\n",
        "X_train, X_test, y_train, y_test = train_test_split(X, y, test_size=0.2, random_state=30)\n"
      ]
    },
    {
      "cell_type": "code",
      "execution_count": null,
      "metadata": {
        "id": "JY0sDkUNd_9p"
      },
      "outputs": [],
      "source": [
        "svm = SVC()"
      ]
    },
    {
      "cell_type": "code",
      "execution_count": null,
      "metadata": {
        "colab": {
          "base_uri": "https://localhost:8080/",
          "height": 93
        },
        "id": "SJgcawwnfbOx",
        "outputId": "cee7799c-b6a6-44d2-d14b-df3cf89e11ee"
      },
      "outputs": [
        {
          "output_type": "execute_result",
          "data": {
            "text/plain": [
              "SVC()"
            ],
            "text/html": [
              "<style>#sk-container-id-8 {color: black;background-color: white;}#sk-container-id-8 pre{padding: 0;}#sk-container-id-8 div.sk-toggleable {background-color: white;}#sk-container-id-8 label.sk-toggleable__label {cursor: pointer;display: block;width: 100%;margin-bottom: 0;padding: 0.3em;box-sizing: border-box;text-align: center;}#sk-container-id-8 label.sk-toggleable__label-arrow:before {content: \"▸\";float: left;margin-right: 0.25em;color: #696969;}#sk-container-id-8 label.sk-toggleable__label-arrow:hover:before {color: black;}#sk-container-id-8 div.sk-estimator:hover label.sk-toggleable__label-arrow:before {color: black;}#sk-container-id-8 div.sk-toggleable__content {max-height: 0;max-width: 0;overflow: hidden;text-align: left;background-color: #f0f8ff;}#sk-container-id-8 div.sk-toggleable__content pre {margin: 0.2em;color: black;border-radius: 0.25em;background-color: #f0f8ff;}#sk-container-id-8 input.sk-toggleable__control:checked~div.sk-toggleable__content {max-height: 200px;max-width: 100%;overflow: auto;}#sk-container-id-8 input.sk-toggleable__control:checked~label.sk-toggleable__label-arrow:before {content: \"▾\";}#sk-container-id-8 div.sk-estimator input.sk-toggleable__control:checked~label.sk-toggleable__label {background-color: #d4ebff;}#sk-container-id-8 div.sk-label input.sk-toggleable__control:checked~label.sk-toggleable__label {background-color: #d4ebff;}#sk-container-id-8 input.sk-hidden--visually {border: 0;clip: rect(1px 1px 1px 1px);clip: rect(1px, 1px, 1px, 1px);height: 1px;margin: -1px;overflow: hidden;padding: 0;position: absolute;width: 1px;}#sk-container-id-8 div.sk-estimator {font-family: monospace;background-color: #f0f8ff;border: 1px dotted black;border-radius: 0.25em;box-sizing: border-box;margin-bottom: 0.5em;}#sk-container-id-8 div.sk-estimator:hover {background-color: #d4ebff;}#sk-container-id-8 div.sk-parallel-item::after {content: \"\";width: 100%;border-bottom: 1px solid gray;flex-grow: 1;}#sk-container-id-8 div.sk-label:hover label.sk-toggleable__label {background-color: #d4ebff;}#sk-container-id-8 div.sk-serial::before {content: \"\";position: absolute;border-left: 1px solid gray;box-sizing: border-box;top: 0;bottom: 0;left: 50%;z-index: 0;}#sk-container-id-8 div.sk-serial {display: flex;flex-direction: column;align-items: center;background-color: white;padding-right: 0.2em;padding-left: 0.2em;position: relative;}#sk-container-id-8 div.sk-item {position: relative;z-index: 1;}#sk-container-id-8 div.sk-parallel {display: flex;align-items: stretch;justify-content: center;background-color: white;position: relative;}#sk-container-id-8 div.sk-item::before, #sk-container-id-8 div.sk-parallel-item::before {content: \"\";position: absolute;border-left: 1px solid gray;box-sizing: border-box;top: 0;bottom: 0;left: 50%;z-index: -1;}#sk-container-id-8 div.sk-parallel-item {display: flex;flex-direction: column;z-index: 1;position: relative;background-color: white;}#sk-container-id-8 div.sk-parallel-item:first-child::after {align-self: flex-end;width: 50%;}#sk-container-id-8 div.sk-parallel-item:last-child::after {align-self: flex-start;width: 50%;}#sk-container-id-8 div.sk-parallel-item:only-child::after {width: 0;}#sk-container-id-8 div.sk-dashed-wrapped {border: 1px dashed gray;margin: 0 0.4em 0.5em 0.4em;box-sizing: border-box;padding-bottom: 0.4em;background-color: white;}#sk-container-id-8 div.sk-label label {font-family: monospace;font-weight: bold;display: inline-block;line-height: 1.2em;}#sk-container-id-8 div.sk-label-container {text-align: center;}#sk-container-id-8 div.sk-container {/* jupyter's `normalize.less` sets `[hidden] { display: none; }` but bootstrap.min.css set `[hidden] { display: none !important; }` so we also need the `!important` here to be able to override the default hidden behavior on the sphinx rendered scikit-learn.org. See: https://github.com/scikit-learn/scikit-learn/issues/21755 */display: inline-block !important;position: relative;}#sk-container-id-8 div.sk-text-repr-fallback {display: none;}</style><div id=\"sk-container-id-8\" class=\"sk-top-container\"><div class=\"sk-text-repr-fallback\"><pre>SVC()</pre><b>In a Jupyter environment, please rerun this cell to show the HTML representation or trust the notebook. <br />On GitHub, the HTML representation is unable to render, please try loading this page with nbviewer.org.</b></div><div class=\"sk-container\" hidden><div class=\"sk-item\"><div class=\"sk-estimator sk-toggleable\"><input class=\"sk-toggleable__control sk-hidden--visually\" id=\"sk-estimator-id-8\" type=\"checkbox\" checked><label for=\"sk-estimator-id-8\" class=\"sk-toggleable__label sk-toggleable__label-arrow\">SVC</label><div class=\"sk-toggleable__content\"><pre>SVC()</pre></div></div></div></div></div>"
            ]
          },
          "metadata": {},
          "execution_count": 188
        }
      ],
      "source": [
        "svm.fit(X_train, y_train)\n"
      ]
    },
    {
      "cell_type": "markdown",
      "metadata": {
        "id": "YTLs8UW2omo9"
      },
      "source": [
        "Estimate Accuracy"
      ]
    },
    {
      "cell_type": "code",
      "execution_count": null,
      "metadata": {
        "colab": {
          "base_uri": "https://localhost:8080/"
        },
        "id": "_UCkxaTFRFZB",
        "outputId": "818d3dfc-6616-4864-9aa5-ee24c4a3dfa1"
      },
      "outputs": [
        {
          "output_type": "stream",
          "name": "stdout",
          "text": [
            "Accuracy: 0.8715323031092906\n"
          ]
        }
      ],
      "source": [
        "accuracy = svm.score(X_test, y_test)\n",
        "print(\"Accuracy:\", accuracy)\n"
      ]
    },
    {
      "cell_type": "markdown",
      "metadata": {
        "id": "M3CCrRaRhU_Q"
      },
      "source": [
        "Testing"
      ]
    },
    {
      "cell_type": "code",
      "execution_count": null,
      "metadata": {
        "colab": {
          "base_uri": "https://localhost:8080/"
        },
        "id": "ZJaF7O69gTyl",
        "outputId": "0d986a6e-1bf5-4ba1-a617-3b7552e8090e"
      },
      "outputs": [
        {
          "name": "stdout",
          "output_type": "stream",
          "text": [
            "[0]\n"
          ]
        }
      ],
      "source": [
        "name = \"Nguyễn Thị Minh Trang\"\n",
        "name_vector = word_2_vec(name).reshape(1,-1)\n",
        "y_pred = svm.predict(name_vector)\n",
        "print(y_pred)"
      ]
    },
    {
      "cell_type": "markdown",
      "metadata": {
        "id": "corx2scJo2lK"
      },
      "source": [
        "# Train model to predict gender using "
      ]
    },
    {
      "cell_type": "code",
      "execution_count": null,
      "metadata": {
        "colab": {
          "base_uri": "https://localhost:8080/",
          "height": 93
        },
        "id": "fmquKl4MpseL",
        "outputId": "5542a998-055b-48bd-bb3c-89c870b518d6"
      },
      "outputs": [
        {
          "output_type": "execute_result",
          "data": {
            "text/plain": [
              "LogisticRegression()"
            ],
            "text/html": [
              "<style>#sk-container-id-7 {color: black;background-color: white;}#sk-container-id-7 pre{padding: 0;}#sk-container-id-7 div.sk-toggleable {background-color: white;}#sk-container-id-7 label.sk-toggleable__label {cursor: pointer;display: block;width: 100%;margin-bottom: 0;padding: 0.3em;box-sizing: border-box;text-align: center;}#sk-container-id-7 label.sk-toggleable__label-arrow:before {content: \"▸\";float: left;margin-right: 0.25em;color: #696969;}#sk-container-id-7 label.sk-toggleable__label-arrow:hover:before {color: black;}#sk-container-id-7 div.sk-estimator:hover label.sk-toggleable__label-arrow:before {color: black;}#sk-container-id-7 div.sk-toggleable__content {max-height: 0;max-width: 0;overflow: hidden;text-align: left;background-color: #f0f8ff;}#sk-container-id-7 div.sk-toggleable__content pre {margin: 0.2em;color: black;border-radius: 0.25em;background-color: #f0f8ff;}#sk-container-id-7 input.sk-toggleable__control:checked~div.sk-toggleable__content {max-height: 200px;max-width: 100%;overflow: auto;}#sk-container-id-7 input.sk-toggleable__control:checked~label.sk-toggleable__label-arrow:before {content: \"▾\";}#sk-container-id-7 div.sk-estimator input.sk-toggleable__control:checked~label.sk-toggleable__label {background-color: #d4ebff;}#sk-container-id-7 div.sk-label input.sk-toggleable__control:checked~label.sk-toggleable__label {background-color: #d4ebff;}#sk-container-id-7 input.sk-hidden--visually {border: 0;clip: rect(1px 1px 1px 1px);clip: rect(1px, 1px, 1px, 1px);height: 1px;margin: -1px;overflow: hidden;padding: 0;position: absolute;width: 1px;}#sk-container-id-7 div.sk-estimator {font-family: monospace;background-color: #f0f8ff;border: 1px dotted black;border-radius: 0.25em;box-sizing: border-box;margin-bottom: 0.5em;}#sk-container-id-7 div.sk-estimator:hover {background-color: #d4ebff;}#sk-container-id-7 div.sk-parallel-item::after {content: \"\";width: 100%;border-bottom: 1px solid gray;flex-grow: 1;}#sk-container-id-7 div.sk-label:hover label.sk-toggleable__label {background-color: #d4ebff;}#sk-container-id-7 div.sk-serial::before {content: \"\";position: absolute;border-left: 1px solid gray;box-sizing: border-box;top: 0;bottom: 0;left: 50%;z-index: 0;}#sk-container-id-7 div.sk-serial {display: flex;flex-direction: column;align-items: center;background-color: white;padding-right: 0.2em;padding-left: 0.2em;position: relative;}#sk-container-id-7 div.sk-item {position: relative;z-index: 1;}#sk-container-id-7 div.sk-parallel {display: flex;align-items: stretch;justify-content: center;background-color: white;position: relative;}#sk-container-id-7 div.sk-item::before, #sk-container-id-7 div.sk-parallel-item::before {content: \"\";position: absolute;border-left: 1px solid gray;box-sizing: border-box;top: 0;bottom: 0;left: 50%;z-index: -1;}#sk-container-id-7 div.sk-parallel-item {display: flex;flex-direction: column;z-index: 1;position: relative;background-color: white;}#sk-container-id-7 div.sk-parallel-item:first-child::after {align-self: flex-end;width: 50%;}#sk-container-id-7 div.sk-parallel-item:last-child::after {align-self: flex-start;width: 50%;}#sk-container-id-7 div.sk-parallel-item:only-child::after {width: 0;}#sk-container-id-7 div.sk-dashed-wrapped {border: 1px dashed gray;margin: 0 0.4em 0.5em 0.4em;box-sizing: border-box;padding-bottom: 0.4em;background-color: white;}#sk-container-id-7 div.sk-label label {font-family: monospace;font-weight: bold;display: inline-block;line-height: 1.2em;}#sk-container-id-7 div.sk-label-container {text-align: center;}#sk-container-id-7 div.sk-container {/* jupyter's `normalize.less` sets `[hidden] { display: none; }` but bootstrap.min.css set `[hidden] { display: none !important; }` so we also need the `!important` here to be able to override the default hidden behavior on the sphinx rendered scikit-learn.org. See: https://github.com/scikit-learn/scikit-learn/issues/21755 */display: inline-block !important;position: relative;}#sk-container-id-7 div.sk-text-repr-fallback {display: none;}</style><div id=\"sk-container-id-7\" class=\"sk-top-container\"><div class=\"sk-text-repr-fallback\"><pre>LogisticRegression()</pre><b>In a Jupyter environment, please rerun this cell to show the HTML representation or trust the notebook. <br />On GitHub, the HTML representation is unable to render, please try loading this page with nbviewer.org.</b></div><div class=\"sk-container\" hidden><div class=\"sk-item\"><div class=\"sk-estimator sk-toggleable\"><input class=\"sk-toggleable__control sk-hidden--visually\" id=\"sk-estimator-id-7\" type=\"checkbox\" checked><label for=\"sk-estimator-id-7\" class=\"sk-toggleable__label sk-toggleable__label-arrow\">LogisticRegression</label><div class=\"sk-toggleable__content\"><pre>LogisticRegression()</pre></div></div></div></div></div>"
            ]
          },
          "metadata": {},
          "execution_count": 183
        }
      ],
      "source": [
        "from sklearn.linear_model import LogisticRegression\n",
        "# Create an instance of the LogisticRegression model\n",
        "logreg = LogisticRegression()\n",
        "\n",
        "# Fit the model to the training data\n",
        "logreg.fit(X_train, y_train)\n"
      ]
    },
    {
      "cell_type": "code",
      "execution_count": null,
      "metadata": {
        "colab": {
          "base_uri": "https://localhost:8080/"
        },
        "id": "jKbw8zVmpy47",
        "outputId": "99f62a5d-bd48-464c-f098-48a84db13bc5"
      },
      "outputs": [
        {
          "output_type": "stream",
          "name": "stdout",
          "text": [
            "Accuracy: 0.8666914913423943\n"
          ]
        }
      ],
      "source": [
        "# Compare the predicted labels with the true labels and calculate the accuracy\n",
        "accuracy = logreg.score(X_test, y_test)\n",
        "print(\"Accuracy:\", accuracy)\n"
      ]
    },
    {
      "cell_type": "code",
      "execution_count": null,
      "metadata": {
        "colab": {
          "base_uri": "https://localhost:8080/"
        },
        "id": "e4_DLnS9pwdp",
        "outputId": "ec144d3d-04c2-4016-9d1a-9634037d1414"
      },
      "outputs": [
        {
          "name": "stdout",
          "output_type": "stream",
          "text": [
            "[0]\n"
          ]
        }
      ],
      "source": [
        "# Use the trained model to make predictions on the test data\n",
        "name = \"Hồ Thiện Quỳnh\"\n",
        "name_vector = word_2_vec(name).reshape(1,-1)\n",
        "\n",
        "y_pred = logreg.predict(name_vector)\n",
        "print(y_pred)\n",
        "                        "
      ]
    },
    {
      "cell_type": "markdown",
      "metadata": {
        "id": "Tpdw2S8s5WIy"
      },
      "source": [
        "# Train model to predict gender using Random Forest"
      ]
    },
    {
      "cell_type": "code",
      "execution_count": 23,
      "metadata": {
        "colab": {
          "base_uri": "https://localhost:8080/",
          "height": 73
        },
        "id": "WA-RPjF96Rl2",
        "outputId": "5a10f320-3651-44b0-e3ba-060bdba0aed3"
      },
      "outputs": [
        {
          "output_type": "execute_result",
          "data": {
            "text/plain": [
              "RandomForestClassifier()"
            ],
            "text/html": [
              "<style>#sk-container-id-2 {color: black;background-color: white;}#sk-container-id-2 pre{padding: 0;}#sk-container-id-2 div.sk-toggleable {background-color: white;}#sk-container-id-2 label.sk-toggleable__label {cursor: pointer;display: block;width: 100%;margin-bottom: 0;padding: 0.3em;box-sizing: border-box;text-align: center;}#sk-container-id-2 label.sk-toggleable__label-arrow:before {content: \"▸\";float: left;margin-right: 0.25em;color: #696969;}#sk-container-id-2 label.sk-toggleable__label-arrow:hover:before {color: black;}#sk-container-id-2 div.sk-estimator:hover label.sk-toggleable__label-arrow:before {color: black;}#sk-container-id-2 div.sk-toggleable__content {max-height: 0;max-width: 0;overflow: hidden;text-align: left;background-color: #f0f8ff;}#sk-container-id-2 div.sk-toggleable__content pre {margin: 0.2em;color: black;border-radius: 0.25em;background-color: #f0f8ff;}#sk-container-id-2 input.sk-toggleable__control:checked~div.sk-toggleable__content {max-height: 200px;max-width: 100%;overflow: auto;}#sk-container-id-2 input.sk-toggleable__control:checked~label.sk-toggleable__label-arrow:before {content: \"▾\";}#sk-container-id-2 div.sk-estimator input.sk-toggleable__control:checked~label.sk-toggleable__label {background-color: #d4ebff;}#sk-container-id-2 div.sk-label input.sk-toggleable__control:checked~label.sk-toggleable__label {background-color: #d4ebff;}#sk-container-id-2 input.sk-hidden--visually {border: 0;clip: rect(1px 1px 1px 1px);clip: rect(1px, 1px, 1px, 1px);height: 1px;margin: -1px;overflow: hidden;padding: 0;position: absolute;width: 1px;}#sk-container-id-2 div.sk-estimator {font-family: monospace;background-color: #f0f8ff;border: 1px dotted black;border-radius: 0.25em;box-sizing: border-box;margin-bottom: 0.5em;}#sk-container-id-2 div.sk-estimator:hover {background-color: #d4ebff;}#sk-container-id-2 div.sk-parallel-item::after {content: \"\";width: 100%;border-bottom: 1px solid gray;flex-grow: 1;}#sk-container-id-2 div.sk-label:hover label.sk-toggleable__label {background-color: #d4ebff;}#sk-container-id-2 div.sk-serial::before {content: \"\";position: absolute;border-left: 1px solid gray;box-sizing: border-box;top: 0;bottom: 0;left: 50%;z-index: 0;}#sk-container-id-2 div.sk-serial {display: flex;flex-direction: column;align-items: center;background-color: white;padding-right: 0.2em;padding-left: 0.2em;position: relative;}#sk-container-id-2 div.sk-item {position: relative;z-index: 1;}#sk-container-id-2 div.sk-parallel {display: flex;align-items: stretch;justify-content: center;background-color: white;position: relative;}#sk-container-id-2 div.sk-item::before, #sk-container-id-2 div.sk-parallel-item::before {content: \"\";position: absolute;border-left: 1px solid gray;box-sizing: border-box;top: 0;bottom: 0;left: 50%;z-index: -1;}#sk-container-id-2 div.sk-parallel-item {display: flex;flex-direction: column;z-index: 1;position: relative;background-color: white;}#sk-container-id-2 div.sk-parallel-item:first-child::after {align-self: flex-end;width: 50%;}#sk-container-id-2 div.sk-parallel-item:last-child::after {align-self: flex-start;width: 50%;}#sk-container-id-2 div.sk-parallel-item:only-child::after {width: 0;}#sk-container-id-2 div.sk-dashed-wrapped {border: 1px dashed gray;margin: 0 0.4em 0.5em 0.4em;box-sizing: border-box;padding-bottom: 0.4em;background-color: white;}#sk-container-id-2 div.sk-label label {font-family: monospace;font-weight: bold;display: inline-block;line-height: 1.2em;}#sk-container-id-2 div.sk-label-container {text-align: center;}#sk-container-id-2 div.sk-container {/* jupyter's `normalize.less` sets `[hidden] { display: none; }` but bootstrap.min.css set `[hidden] { display: none !important; }` so we also need the `!important` here to be able to override the default hidden behavior on the sphinx rendered scikit-learn.org. See: https://github.com/scikit-learn/scikit-learn/issues/21755 */display: inline-block !important;position: relative;}#sk-container-id-2 div.sk-text-repr-fallback {display: none;}</style><div id=\"sk-container-id-2\" class=\"sk-top-container\"><div class=\"sk-text-repr-fallback\"><pre>RandomForestClassifier()</pre><b>In a Jupyter environment, please rerun this cell to show the HTML representation or trust the notebook. <br />On GitHub, the HTML representation is unable to render, please try loading this page with nbviewer.org.</b></div><div class=\"sk-container\" hidden><div class=\"sk-item\"><div class=\"sk-estimator sk-toggleable\"><input class=\"sk-toggleable__control sk-hidden--visually\" id=\"sk-estimator-id-2\" type=\"checkbox\" checked><label for=\"sk-estimator-id-2\" class=\"sk-toggleable__label sk-toggleable__label-arrow\">RandomForestClassifier</label><div class=\"sk-toggleable__content\"><pre>RandomForestClassifier()</pre></div></div></div></div></div>"
            ]
          },
          "metadata": {},
          "execution_count": 23
        }
      ],
      "source": [
        "from sklearn.ensemble import RandomForestClassifier\n",
        "from sklearn.model_selection import train_test_split\n",
        "# Create an instance of the RandomForestClassifier model\n",
        "rf = RandomForestClassifier()\n",
        "\n",
        "# Fit the model to the training data\n",
        "rf.fit(X_train, y_train)"
      ]
    },
    {
      "cell_type": "code",
      "execution_count": null,
      "metadata": {
        "colab": {
          "base_uri": "https://localhost:8080/"
        },
        "id": "NPMsALmT6cgT",
        "outputId": "bc033099-1a3e-4359-9df4-0edc607d4cd1"
      },
      "outputs": [
        {
          "output_type": "stream",
          "name": "stdout",
          "text": [
            "Accuracy: 0.9406069633215416\n"
          ]
        }
      ],
      "source": [
        "accuracy = rf.score(X_test, y_test)\n",
        "print(\"Accuracy:\", accuracy)"
      ]
    }
  ],
  "metadata": {
    "colab": {
      "provenance": [],
      "include_colab_link": true
    },
    "kernelspec": {
      "display_name": "Python 3",
      "name": "python3"
    },
    "language_info": {
      "name": "python"
    }
  },
  "nbformat": 4,
  "nbformat_minor": 0
}